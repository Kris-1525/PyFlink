{
 "cells": [
  {
   "cell_type": "code",
   "execution_count": 1,
   "id": "898c66c9-3f94-4002-9fcf-d1210056c95f",
   "metadata": {
    "tags": []
   },
   "outputs": [],
   "source": [
    "from pyflink.table import StreamTableEnvironment, EnvironmentSettings, DataTypes, CsvTableSink, ChangelogMode, Schema, TableDescriptor, WriteMode"
   ]
  },
  {
   "cell_type": "code",
   "execution_count": 2,
   "id": "c7972c66-b05d-4514-a28c-11cbc1c6848a",
   "metadata": {
    "tags": []
   },
   "outputs": [],
   "source": [
    "from pyflink.table.window import Tumble"
   ]
  },
  {
   "cell_type": "code",
   "execution_count": 3,
   "id": "cd6c74ea-fbe9-4a8e-829c-21d1cdd655c8",
   "metadata": {
    "tags": []
   },
   "outputs": [],
   "source": [
    "from pyflink.table.expressions import col as col_fk"
   ]
  },
  {
   "cell_type": "code",
   "execution_count": 4,
   "id": "6a934502-0744-44ec-a871-7a424f654d33",
   "metadata": {
    "tags": []
   },
   "outputs": [],
   "source": [
    "from pyflink.table.expressions import lit as lit_fk"
   ]
  },
  {
   "cell_type": "code",
   "execution_count": 5,
   "id": "8f342952-9c0e-45c3-b125-a30f371855a4",
   "metadata": {
    "tags": []
   },
   "outputs": [],
   "source": [
    "from pyflink.datastream import StreamExecutionEnvironment"
   ]
  },
  {
   "cell_type": "code",
   "execution_count": 6,
   "id": "3454b96d-20bd-4895-bfe3-a39968658636",
   "metadata": {
    "tags": []
   },
   "outputs": [],
   "source": [
    "stream_env = StreamExecutionEnvironment.get_execution_environment()"
   ]
  },
  {
   "cell_type": "code",
   "execution_count": 7,
   "id": "3dddab81-cdb4-442c-b65c-f589f91d0d90",
   "metadata": {
    "tags": []
   },
   "outputs": [],
   "source": [
    "env_set = EnvironmentSettings.new_instance()\\\n",
    "                            .in_streaming_mode()\\\n",
    "                            .build()"
   ]
  },
  {
   "cell_type": "code",
   "execution_count": 8,
   "id": "d1fb5d26-3934-4c8c-911b-2bc853c64379",
   "metadata": {
    "tags": []
   },
   "outputs": [],
   "source": [
    "stream_tbl_env = StreamTableEnvironment.create(stream_execution_environment=stream_env,\n",
    "                                               environment_settings=env_set)"
   ]
  },
  {
   "cell_type": "code",
   "execution_count": 9,
   "id": "08b58140-5030-49e6-acac-e7e22414d44c",
   "metadata": {
    "tags": []
   },
   "outputs": [
    {
     "data": {
      "text/plain": [
       "<pyflink.common.configuration.Configuration at 0x1c2ed68e8b0>"
      ]
     },
     "execution_count": 9,
     "metadata": {},
     "output_type": "execute_result"
    }
   ],
   "source": [
    "stream_tbl_env.get_config().get_configuration().set_string(\"parallelism.default\", \"1\")"
   ]
  },
  {
   "cell_type": "code",
   "execution_count": 10,
   "id": "d66d6495-1e7f-4049-a3e6-d4071bcd7c02",
   "metadata": {
    "tags": []
   },
   "outputs": [
    {
     "data": {
      "text/plain": [
       "<pyflink.datastream.stream_execution_environment.StreamExecutionEnvironment at 0x1c2ca94db50>"
      ]
     },
     "execution_count": 10,
     "metadata": {},
     "output_type": "execute_result"
    }
   ],
   "source": [
    "stream_env.set_parallelism(1)"
   ]
  },
  {
   "cell_type": "code",
   "execution_count": 11,
   "id": "8bab1008-a4bf-4349-b492-121dbd9a8f15",
   "metadata": {
    "tags": []
   },
   "outputs": [],
   "source": [
    "kafka_tbl_query = \"\"\"\n",
    "CREATE TABLE kafka_tbl_source (\n",
    "    seller_id VARCHAR,\n",
    "    product VARCHAR,\n",
    "    quantity INT,\n",
    "    product_price DOUBLE,\n",
    "    sale_ts INT,\n",
    "    proct AS PROCTIME()\n",
    ")\n",
    "WITH (\n",
    "    'connector' = 'kafka',\n",
    "    'topic' = 'salesitems',\n",
    "    'properties.group.id' = 'source-demo-1',\n",
    "    'properties.bootstrap.servers' = 'localhost:9092',\n",
    "    'scan.startup.mode' = 'earliest-offset',\n",
    "    'format' = 'json',\n",
    "    'json.ignore-parse-errors' = 'true'\n",
    ")\n",
    "\"\"\""
   ]
  },
  {
   "cell_type": "code",
   "execution_count": 12,
   "id": "fdd7ed82-0143-4858-8e2c-41c4275d2f3f",
   "metadata": {
    "tags": []
   },
   "outputs": [
    {
     "data": {
      "text/plain": [
       "<pyflink.table.table_result.TableResult at 0x1c2ed798e20>"
      ]
     },
     "execution_count": 12,
     "metadata": {},
     "output_type": "execute_result"
    }
   ],
   "source": [
    "stream_tbl_env.execute_sql(kafka_tbl_query)"
   ]
  },
  {
   "cell_type": "code",
   "execution_count": 13,
   "id": "56649bf6-816a-4f1e-8ce3-fad83dbf4b91",
   "metadata": {
    "tags": []
   },
   "outputs": [],
   "source": [
    "kafka_tbl_query = \"\"\"\n",
    "SELECT\n",
    "    seller_id,\n",
    "    HOP_START(proct, INTERVAL '10' SECONDS, INTERVAL '30' SECONDS) AS proct_start,\n",
    "    HOP_END(proct, INTERVAL '10' SECONDS, INTERVAL '30' SECONDS) AS proct_end,\n",
    "    SUM(quantity*product_price) AS proct_sales\n",
    "FROM\n",
    "    kafka_tbl_source\n",
    "GROUP BY\n",
    "    seller_id,\n",
    "    HOP(proct, INTERVAL '10' SECONDS, INTERVAL '30' SECONDS)\n",
    "\"\"\""
   ]
  },
  {
   "cell_type": "code",
   "execution_count": 14,
   "id": "0162be4a-64a4-4a64-a5c5-bb16f9534033",
   "metadata": {
    "tags": []
   },
   "outputs": [],
   "source": [
    "kafka_tbl_source = stream_tbl_env.sql_query(kafka_tbl_query)"
   ]
  },
  {
   "cell_type": "code",
   "execution_count": 15,
   "id": "2872ffbf-1d4d-424f-9385-70fd9e2394df",
   "metadata": {
    "tags": []
   },
   "outputs": [],
   "source": [
    "# kafka_ds_source = stream_tbl_env.to_changelog_stream(table=kafka_tbl_source, \n",
    "#                                                      changelog_mode=ChangelogMode.all())"
   ]
  },
  {
   "cell_type": "code",
   "execution_count": 16,
   "id": "95a2dd36-9325-401a-a770-ba4a4429a667",
   "metadata": {
    "tags": []
   },
   "outputs": [],
   "source": [
    "# kafka_tbl_source = stream_tbl_env.from_data_stream(kafka_ds_source)"
   ]
  },
  {
   "cell_type": "code",
   "execution_count": 17,
   "id": "482a208a-8094-4748-9396-fa4cabd3af1a",
   "metadata": {
    "tags": []
   },
   "outputs": [],
   "source": [
    "csv_tbl_sink = CsvTableSink(field_names=kafka_tbl_source.get_schema().get_field_names(), \n",
    "                            field_types=kafka_tbl_source.get_schema().get_field_data_types(),\n",
    "                            path='./WindowCSV/sum_prices_5.csv',\n",
    "                            num_files=1,\n",
    "                            write_mode=WriteMode.OVERWRITE)"
   ]
  },
  {
   "cell_type": "code",
   "execution_count": 18,
   "id": "1b77bdd8-0a29-4b34-81d8-86d151b8d571",
   "metadata": {
    "tags": []
   },
   "outputs": [],
   "source": [
    "stream_tbl_env.register_table_sink('csv_tbl_sink',csv_tbl_sink)"
   ]
  },
  {
   "cell_type": "code",
   "execution_count": 19,
   "id": "68d49fed-37be-4735-9266-27cd009d5cc1",
   "metadata": {
    "tags": []
   },
   "outputs": [
    {
     "data": {
      "text/plain": [
       "<pyflink.table.table_result.TableResult at 0x1c2ed798af0>"
      ]
     },
     "execution_count": 19,
     "metadata": {},
     "output_type": "execute_result"
    }
   ],
   "source": [
    "kafka_tbl_source.execute_insert('csv_tbl_sink')"
   ]
  },
  {
   "cell_type": "code",
   "execution_count": null,
   "id": "74207c52-003b-46ae-b298-5d4da74d3fb5",
   "metadata": {},
   "outputs": [],
   "source": []
  }
 ],
 "metadata": {
  "kernelspec": {
   "display_name": "Python 3 (ipykernel)",
   "language": "python",
   "name": "python3"
  },
  "language_info": {
   "codemirror_mode": {
    "name": "ipython",
    "version": 3
   },
   "file_extension": ".py",
   "mimetype": "text/x-python",
   "name": "python",
   "nbconvert_exporter": "python",
   "pygments_lexer": "ipython3",
   "version": "3.8.18"
  }
 },
 "nbformat": 4,
 "nbformat_minor": 5
}
