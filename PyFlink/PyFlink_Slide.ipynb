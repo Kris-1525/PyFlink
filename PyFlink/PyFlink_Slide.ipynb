{
 "cells": [
  {
   "cell_type": "code",
   "execution_count": 1,
   "id": "898c66c9-3f94-4002-9fcf-d1210056c95f",
   "metadata": {
    "tags": []
   },
   "outputs": [],
   "source": [
    "from pyflink.table import StreamTableEnvironment, EnvironmentSettings, DataTypes, CsvTableSink, ChangelogMode, Schema, TableDescriptor, WriteMode"
   ]
  },
  {
   "cell_type": "code",
   "execution_count": 2,
   "id": "c7972c66-b05d-4514-a28c-11cbc1c6848a",
   "metadata": {
    "tags": []
   },
   "outputs": [],
   "source": [
    "from pyflink.table.window import Tumble, Slide"
   ]
  },
  {
   "cell_type": "code",
   "execution_count": 3,
   "id": "cd6c74ea-fbe9-4a8e-829c-21d1cdd655c8",
   "metadata": {
    "tags": []
   },
   "outputs": [],
   "source": [
    "from pyflink.table.expressions import col as col_fk"
   ]
  },
  {
   "cell_type": "code",
   "execution_count": 4,
   "id": "6a934502-0744-44ec-a871-7a424f654d33",
   "metadata": {
    "tags": []
   },
   "outputs": [],
   "source": [
    "from pyflink.table.expressions import lit as lit_fk"
   ]
  },
  {
   "cell_type": "code",
   "execution_count": 5,
   "id": "8f342952-9c0e-45c3-b125-a30f371855a4",
   "metadata": {
    "tags": []
   },
   "outputs": [],
   "source": [
    "from pyflink.datastream import StreamExecutionEnvironment"
   ]
  },
  {
   "cell_type": "code",
   "execution_count": 6,
   "id": "3454b96d-20bd-4895-bfe3-a39968658636",
   "metadata": {
    "tags": []
   },
   "outputs": [],
   "source": [
    "stream_env = StreamExecutionEnvironment.get_execution_environment()"
   ]
  },
  {
   "cell_type": "code",
   "execution_count": 7,
   "id": "3dddab81-cdb4-442c-b65c-f589f91d0d90",
   "metadata": {
    "tags": []
   },
   "outputs": [],
   "source": [
    "env_set = EnvironmentSettings.new_instance()\\\n",
    "                            .in_streaming_mode()\\\n",
    "                            .build()"
   ]
  },
  {
   "cell_type": "code",
   "execution_count": 8,
   "id": "d1fb5d26-3934-4c8c-911b-2bc853c64379",
   "metadata": {
    "tags": []
   },
   "outputs": [],
   "source": [
    "stream_tbl_env = StreamTableEnvironment.create(stream_execution_environment=stream_env,\n",
    "                                               environment_settings=env_set)"
   ]
  },
  {
   "cell_type": "code",
   "execution_count": 9,
   "id": "08b58140-5030-49e6-acac-e7e22414d44c",
   "metadata": {
    "tags": []
   },
   "outputs": [
    {
     "data": {
      "text/plain": [
       "<pyflink.common.configuration.Configuration at 0x1a51409e820>"
      ]
     },
     "execution_count": 9,
     "metadata": {},
     "output_type": "execute_result"
    }
   ],
   "source": [
    "stream_tbl_env.get_config().get_configuration().set_string(\"parallelism.default\", \"1\")"
   ]
  },
  {
   "cell_type": "code",
   "execution_count": 10,
   "id": "d66d6495-1e7f-4049-a3e6-d4071bcd7c02",
   "metadata": {
    "tags": []
   },
   "outputs": [
    {
     "data": {
      "text/plain": [
       "<pyflink.datastream.stream_execution_environment.StreamExecutionEnvironment at 0x1a57132eb50>"
      ]
     },
     "execution_count": 10,
     "metadata": {},
     "output_type": "execute_result"
    }
   ],
   "source": [
    "stream_env.set_parallelism(1)"
   ]
  },
  {
   "cell_type": "code",
   "execution_count": 11,
   "id": "d6d6d500-3bc1-4a91-9568-c19043bfb2b9",
   "metadata": {
    "tags": []
   },
   "outputs": [],
   "source": [
    "kafka_tbl_sch = Schema.new_builder()\\\n",
    "                    .column('seller_id', DataTypes.STRING())\\\n",
    "                    .column('product', DataTypes.STRING())\\\n",
    "                    .column('quantity', DataTypes.INT())\\\n",
    "                    .column('product_price', DataTypes.DOUBLE())\\\n",
    "                    .column('sale_ts', DataTypes.BIGINT())\\\n",
    "                    .column_by_expression('proct', 'PROCTIME()')\\\n",
    "                    .build()"
   ]
  },
  {
   "cell_type": "code",
   "execution_count": 12,
   "id": "23d987bc-9748-4eb8-b6cb-1343e09c8c17",
   "metadata": {
    "tags": []
   },
   "outputs": [],
   "source": [
    "kafka_tbl_dis = TableDescriptor.for_connector('kafka')\\\n",
    "                                    .schema(schema=kafka_tbl_sch)\\\n",
    "                                    .option('topic','salesitems')\\\n",
    "                                    .option('properties.group.id','source-demo-1')\\\n",
    "                                    .option('properties.bootstrap.servers','localhost:9092')\\\n",
    "                                    .option('scan.startup.mode','earliest-offset')\\\n",
    "                                    .format('json')\\\n",
    "                                    .option('json.ignore-parse-errors','true')\\\n",
    "                                    .build()"
   ]
  },
  {
   "cell_type": "code",
   "execution_count": 13,
   "id": "3ed4f128-dcbc-4890-bd88-26dad642f3b0",
   "metadata": {
    "tags": []
   },
   "outputs": [],
   "source": [
    "stream_tbl_env.create_table('kafka_tbl_source', kafka_tbl_dis)"
   ]
  },
  {
   "cell_type": "code",
   "execution_count": 14,
   "id": "47f5421b-7097-4165-9694-949791e96240",
   "metadata": {
    "tags": []
   },
   "outputs": [],
   "source": [
    "kafka_tbl_source = stream_tbl_env.scan('kafka_tbl_source')"
   ]
  },
  {
   "cell_type": "code",
   "execution_count": 15,
   "id": "2fbced2d-8806-4cc2-b28f-5e4a31fbf73b",
   "metadata": {
    "tags": []
   },
   "outputs": [],
   "source": [
    "kafka_tbl_source = kafka_tbl_source.window(Slide.over(lit_fk(30).seconds).every(lit_fk(10).seconds).on(col_fk('proct')).alias('proct_w'))\\\n",
    "                                .group_by(col_fk('proct_w'),col_fk('seller_id'))\\\n",
    "                                .select(col_fk('seller_id'), \n",
    "                                        col_fk('proct_w').start.alias('proct_start'),\n",
    "                                        col_fk('proct_w').end.alias('proct_end'),\n",
    "                                        (col_fk('quantity')*col_fk('product_price')).sum.alias('proct_sales'))"
   ]
  },
  {
   "cell_type": "code",
   "execution_count": 16,
   "id": "2872ffbf-1d4d-424f-9385-70fd9e2394df",
   "metadata": {
    "tags": []
   },
   "outputs": [],
   "source": [
    "kafka_ds_source = stream_tbl_env.to_changelog_stream(table=kafka_tbl_source, \n",
    "                                                     changelog_mode=ChangelogMode.all())"
   ]
  },
  {
   "cell_type": "code",
   "execution_count": 17,
   "id": "95a2dd36-9325-401a-a770-ba4a4429a667",
   "metadata": {
    "tags": []
   },
   "outputs": [],
   "source": [
    "kafka_tbl_source = stream_tbl_env.from_data_stream(kafka_ds_source)"
   ]
  },
  {
   "cell_type": "code",
   "execution_count": 18,
   "id": "482a208a-8094-4748-9396-fa4cabd3af1a",
   "metadata": {
    "tags": []
   },
   "outputs": [],
   "source": [
    "csv_tbl_sink = CsvTableSink(field_names=kafka_tbl_source.get_schema().get_field_names(), \n",
    "                            field_types=kafka_tbl_source.get_schema().get_field_data_types(),\n",
    "                            path='./WindowCSV/sum_prices_1.csv',\n",
    "                            num_files=1,\n",
    "                            write_mode=WriteMode.OVERWRITE)"
   ]
  },
  {
   "cell_type": "code",
   "execution_count": 19,
   "id": "1b77bdd8-0a29-4b34-81d8-86d151b8d571",
   "metadata": {
    "tags": []
   },
   "outputs": [],
   "source": [
    "stream_tbl_env.register_table_sink('csv_tbl_sink',csv_tbl_sink)"
   ]
  },
  {
   "cell_type": "code",
   "execution_count": 20,
   "id": "68d49fed-37be-4735-9266-27cd009d5cc1",
   "metadata": {
    "tags": []
   },
   "outputs": [
    {
     "data": {
      "text/plain": [
       "<pyflink.table.table_result.TableResult at 0x1a5141c0610>"
      ]
     },
     "execution_count": 20,
     "metadata": {},
     "output_type": "execute_result"
    }
   ],
   "source": [
    "kafka_tbl_source.execute_insert('csv_tbl_sink')"
   ]
  },
  {
   "cell_type": "code",
   "execution_count": null,
   "id": "74207c52-003b-46ae-b298-5d4da74d3fb5",
   "metadata": {},
   "outputs": [],
   "source": []
  }
 ],
 "metadata": {
  "kernelspec": {
   "display_name": "Python 3 (ipykernel)",
   "language": "python",
   "name": "python3"
  },
  "language_info": {
   "codemirror_mode": {
    "name": "ipython",
    "version": 3
   },
   "file_extension": ".py",
   "mimetype": "text/x-python",
   "name": "python",
   "nbconvert_exporter": "python",
   "pygments_lexer": "ipython3",
   "version": "3.8.18"
  }
 },
 "nbformat": 4,
 "nbformat_minor": 5
}
