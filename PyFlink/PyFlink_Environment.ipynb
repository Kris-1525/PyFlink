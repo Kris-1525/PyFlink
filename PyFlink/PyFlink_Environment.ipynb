{
 "cells": [
  {
   "cell_type": "code",
   "execution_count": 1,
   "id": "a5b39891-95aa-41e7-b44c-ff607322f54f",
   "metadata": {
    "tags": []
   },
   "outputs": [],
   "source": [
    "import pyflink"
   ]
  },
  {
   "cell_type": "code",
   "execution_count": 2,
   "id": "0d3dcec0-0d95-4de7-acf4-0c721cffa589",
   "metadata": {
    "tags": []
   },
   "outputs": [
    {
     "data": {
      "text/plain": [
       "'D:\\\\Users\\\\kritagya\\\\anaconda3\\\\envs\\\\PyFlink\\\\lib\\\\site-packages\\\\pyflink\\\\__init__.py'"
      ]
     },
     "execution_count": 2,
     "metadata": {},
     "output_type": "execute_result"
    }
   ],
   "source": [
    "pyflink.__file__"
   ]
  },
  {
   "cell_type": "code",
   "execution_count": 3,
   "id": "df7b5570-4fa6-4ce1-90cb-14e2176ca036",
   "metadata": {
    "tags": []
   },
   "outputs": [],
   "source": [
    "from pyflink.table import TableEnvironment, EnvironmentSettings"
   ]
  },
  {
   "cell_type": "code",
   "execution_count": 4,
   "id": "63073d2b-3fe9-4cc9-85e2-945c19d974c3",
   "metadata": {
    "tags": []
   },
   "outputs": [],
   "source": [
    "batch_settings = EnvironmentSettings.new_instance()\\\n",
    "                                    .in_batch_mode()\\\n",
    "                                    .build()"
   ]
  },
  {
   "cell_type": "code",
   "execution_count": 5,
   "id": "69818797-1ab7-4a6e-abb1-2ae445c8ac73",
   "metadata": {
    "tags": []
   },
   "outputs": [],
   "source": [
    "batch_tbl_env = TableEnvironment.create(batch_settings)"
   ]
  },
  {
   "cell_type": "code",
   "execution_count": 6,
   "id": "08195201-ca23-42e7-a377-ed40b23c21f6",
   "metadata": {
    "tags": []
   },
   "outputs": [],
   "source": [
    "stream_settings = EnvironmentSettings.new_instance()\\\n",
    "                                    .in_streaming_mode()\\\n",
    "                                    .build()"
   ]
  },
  {
   "cell_type": "code",
   "execution_count": 7,
   "id": "46bd7fbb-55cd-4cf6-8e93-70d6effc2e6b",
   "metadata": {
    "tags": []
   },
   "outputs": [],
   "source": [
    "stream_tbl_env = TableEnvironment.create(batch_settings)"
   ]
  },
  {
   "cell_type": "code",
   "execution_count": 8,
   "id": "c64a1c12-2555-4e06-b41a-5479c0b8b8a0",
   "metadata": {
    "tags": []
   },
   "outputs": [],
   "source": [
    "from pyflink.table import StreamTableEnvironment\n",
    "from pyflink.datastream import StreamExecutionEnvironment"
   ]
  },
  {
   "cell_type": "code",
   "execution_count": 9,
   "id": "8a42f760-2688-4a79-ab49-d3313fd5c051",
   "metadata": {
    "tags": []
   },
   "outputs": [],
   "source": [
    "ds_settings = StreamExecutionEnvironment.get_execution_environment()"
   ]
  },
  {
   "cell_type": "code",
   "execution_count": 10,
   "id": "cf51b194-940e-45e8-8896-bd9e54169375",
   "metadata": {
    "tags": []
   },
   "outputs": [],
   "source": [
    "ds_tbl_env = StreamTableEnvironment.create(ds_settings)"
   ]
  },
  {
   "cell_type": "code",
   "execution_count": null,
   "id": "2242bb8c-ee89-4450-99c2-bf7daddb2521",
   "metadata": {},
   "outputs": [],
   "source": []
  }
 ],
 "metadata": {
  "kernelspec": {
   "display_name": "Python 3 (ipykernel)",
   "language": "python",
   "name": "python3"
  },
  "language_info": {
   "codemirror_mode": {
    "name": "ipython",
    "version": 3
   },
   "file_extension": ".py",
   "mimetype": "text/x-python",
   "name": "python",
   "nbconvert_exporter": "python",
   "pygments_lexer": "ipython3",
   "version": "3.8.18"
  }
 },
 "nbformat": 4,
 "nbformat_minor": 5
}
