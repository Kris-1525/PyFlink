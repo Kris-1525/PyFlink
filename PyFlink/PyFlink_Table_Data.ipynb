{
 "cells": [
  {
   "cell_type": "code",
   "execution_count": 1,
   "id": "76e049d5-22c2-46c0-b179-6504d9519d71",
   "metadata": {
    "tags": []
   },
   "outputs": [],
   "source": [
    "from pyflink.table import TableEnvironment, EnvironmentSettings, DataTypes"
   ]
  },
  {
   "cell_type": "code",
   "execution_count": 2,
   "id": "67237c4c-ae7a-4a09-bbef-c4da73c2d988",
   "metadata": {
    "tags": []
   },
   "outputs": [],
   "source": [
    "def main():\n",
    "    \n",
    "    batch_settings = EnvironmentSettings.new_instance()\\\n",
    "                                        .in_batch_mode()\\\n",
    "                                        .build()\n",
    "    \n",
    "    batch_tbl_env = TableEnvironment.create(batch_settings)\n",
    "    \n",
    "    prod_tup = [\n",
    "        ('Toothbrush',2.99),\n",
    "        ('Toothpaste',3.99),\n",
    "        ('Dental Floss',4.99)]\n",
    "    \n",
    "    prod_tbl = batch_tbl_env.from_elements(prod_tup)\n",
    "    \n",
    "    print('Schema of Product Table:\\n')\n",
    "    print(prod_tbl.print_schema())\n",
    "    print('\\n')\n",
    "    \n",
    "    print('Pandas Dataframe of Product Table:\\n')\n",
    "    print(prod_tbl.to_pandas())\n",
    "    print('\\n')\n",
    "    \n",
    "    col_names = ['Products','Price']\n",
    "    prod_tbl_1 = batch_tbl_env.from_elements(prod_tup, col_names)\n",
    "    \n",
    "    print('Schema of Product Table 1:\\n')\n",
    "    print(prod_tbl_1.print_schema())\n",
    "    print('\\n')\n",
    "    \n",
    "    print('Pandas Dataframe of Product Table 1:\\n')\n",
    "    print(prod_tbl_1.to_pandas())\n",
    "    print('\\n')\n",
    "    \n",
    "    schema = DataTypes.ROW([DataTypes.FIELD('Product',DataTypes.STRING()),\n",
    "                            DataTypes.FIELD('Price',DataTypes.DOUBLE())])\n",
    "    prod_tbl_2 = batch_tbl_env.from_elements(prod_tup,schema)\n",
    "    \n",
    "    print('Schema of Product Table 2:\\n')\n",
    "    print(prod_tbl_2.print_schema())\n",
    "    print('\\n')\n",
    "    \n",
    "    print('Pandas Dataframe of Product Table 2:\\n')\n",
    "    print(prod_tbl_2.to_pandas())\n",
    "    print('\\n')\n",
    "    \n",
    "    return"
   ]
  },
  {
   "cell_type": "code",
   "execution_count": 3,
   "id": "42050a68-06ed-4597-b0ef-073d1dae376e",
   "metadata": {
    "tags": []
   },
   "outputs": [
    {
     "name": "stdout",
     "output_type": "stream",
     "text": [
      "Schema of Product Table:\n",
      "\n",
      "None\n",
      "\n",
      "\n",
      "Pandas Dataframe of Product Table:\n",
      "\n",
      "             _1    _2\n",
      "0    Toothbrush  2.99\n",
      "1    Toothpaste  3.99\n",
      "2  Dental Floss  4.99\n",
      "\n",
      "\n",
      "Schema of Product Table 1:\n",
      "\n",
      "None\n",
      "\n",
      "\n",
      "Pandas Dataframe of Product Table 1:\n",
      "\n",
      "       Products  Price\n",
      "0    Toothbrush   2.99\n",
      "1    Toothpaste   3.99\n",
      "2  Dental Floss   4.99\n",
      "\n",
      "\n",
      "Schema of Product Table 2:\n",
      "\n",
      "None\n",
      "\n",
      "\n",
      "Pandas Dataframe of Product Table 2:\n",
      "\n",
      "        Product  Price\n",
      "0    Toothbrush   2.99\n",
      "1    Toothpaste   3.99\n",
      "2  Dental Floss   4.99\n",
      "\n",
      "\n"
     ]
    }
   ],
   "source": [
    "if __name__ == '__main__':\n",
    "    main()"
   ]
  },
  {
   "cell_type": "code",
   "execution_count": null,
   "id": "2974860f-7b12-4e4f-9958-ce2d5141141d",
   "metadata": {},
   "outputs": [],
   "source": []
  }
 ],
 "metadata": {
  "kernelspec": {
   "display_name": "Python 3 (ipykernel)",
   "language": "python",
   "name": "python3"
  },
  "language_info": {
   "codemirror_mode": {
    "name": "ipython",
    "version": 3
   },
   "file_extension": ".py",
   "mimetype": "text/x-python",
   "name": "python",
   "nbconvert_exporter": "python",
   "pygments_lexer": "ipython3",
   "version": "3.9.18"
  }
 },
 "nbformat": 4,
 "nbformat_minor": 5
}
