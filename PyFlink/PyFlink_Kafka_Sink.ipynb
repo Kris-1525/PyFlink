{
 "cells": [
  {
   "cell_type": "code",
   "execution_count": 1,
   "id": "779d292b-5341-4ade-ad5c-7d1e0e1c9a73",
   "metadata": {
    "tags": []
   },
   "outputs": [],
   "source": [
    "from pyflink.table import TableEnvironment, EnvironmentSettings, DataTypes, StreamTableEnvironment"
   ]
  },
  {
   "cell_type": "code",
   "execution_count": 2,
   "id": "23e32569-2869-4325-8701-fb8d83ae3cca",
   "metadata": {
    "tags": []
   },
   "outputs": [],
   "source": [
    "from pyflink.common.typeinfo import RowTypeInfo"
   ]
  },
  {
   "cell_type": "code",
   "execution_count": 3,
   "id": "7d74c62a-f0a3-48b1-a6ff-5e1b0b825f59",
   "metadata": {
    "tags": []
   },
   "outputs": [],
   "source": [
    "from pyflink.datastream.connectors.kafka import KafkaSource, KafkaOffsetsInitializer, KafkaSink, DeliveryGuarantee, KafkaRecordSerializationSchema"
   ]
  },
  {
   "cell_type": "code",
   "execution_count": 4,
   "id": "b3d37fa0-97d4-47a3-9c2d-0244a6b4c964",
   "metadata": {
    "tags": []
   },
   "outputs": [],
   "source": [
    "from pyflink.common.serialization import SimpleStringSchema"
   ]
  },
  {
   "cell_type": "code",
   "execution_count": 5,
   "id": "f30702ff-2bfc-4bbe-9be8-bc01c27ae6d2",
   "metadata": {
    "tags": []
   },
   "outputs": [],
   "source": [
    "from pyflink.datastream.formats.json import JsonRowDeserializationSchema, JsonRowSerializationSchema"
   ]
  },
  {
   "cell_type": "code",
   "execution_count": 6,
   "id": "d09fab3f-d8a3-4c9f-b476-1839d0122242",
   "metadata": {
    "tags": []
   },
   "outputs": [],
   "source": [
    "from pyflink.datastream import StreamExecutionEnvironment"
   ]
  },
  {
   "cell_type": "code",
   "execution_count": 7,
   "id": "50da28a2-62ff-4955-ad83-a30ec1b2b1f9",
   "metadata": {
    "tags": []
   },
   "outputs": [],
   "source": [
    "from pyflink.table.expressions import col as col_sp"
   ]
  },
  {
   "cell_type": "code",
   "execution_count": 8,
   "id": "0d46231e-02de-4774-816a-012b09fa5427",
   "metadata": {
    "tags": []
   },
   "outputs": [],
   "source": [
    "from pyflink.common import Types"
   ]
  },
  {
   "cell_type": "code",
   "execution_count": 9,
   "id": "07dca7fd-00b8-4b0e-9e9d-eaef2eebf813",
   "metadata": {
    "tags": []
   },
   "outputs": [],
   "source": [
    "from pyflink.common.watermark_strategy import WatermarkStrategy"
   ]
  },
  {
   "cell_type": "code",
   "execution_count": 10,
   "id": "1394bc93-e982-40ee-9a63-fcef2bc89990",
   "metadata": {
    "tags": []
   },
   "outputs": [],
   "source": [
    "from pyflink.common.configuration import Configuration"
   ]
  },
  {
   "cell_type": "code",
   "execution_count": 11,
   "id": "ccba46c4-c063-4180-ad65-5621a15c00ef",
   "metadata": {
    "tags": []
   },
   "outputs": [],
   "source": [
    "from pyflink.common.restart_strategy import RestartStrategies"
   ]
  },
  {
   "cell_type": "code",
   "execution_count": 12,
   "id": "acce5a76-65dd-40c1-8ac3-bb4747a6cba1",
   "metadata": {
    "tags": []
   },
   "outputs": [],
   "source": [
    "from pyflink.table import CsvTableSink"
   ]
  },
  {
   "cell_type": "code",
   "execution_count": 13,
   "id": "d5cb52d3-60aa-4ab5-8f47-4654da4c5f0f",
   "metadata": {
    "tags": []
   },
   "outputs": [],
   "source": [
    "stream_env = StreamExecutionEnvironment.get_execution_environment()"
   ]
  },
  {
   "cell_type": "code",
   "execution_count": 14,
   "id": "9c126237-44c9-4dba-aab7-ca3798f754c8",
   "metadata": {
    "tags": []
   },
   "outputs": [],
   "source": [
    "stream_settings = EnvironmentSettings.new_instance()\\\n",
    "                                    .in_streaming_mode()\\\n",
    "                                    .build()"
   ]
  },
  {
   "cell_type": "code",
   "execution_count": 15,
   "id": "8c3139bb-634f-4868-9f73-4d0c0d4a1d44",
   "metadata": {
    "tags": []
   },
   "outputs": [],
   "source": [
    "stream_tbl_env = StreamTableEnvironment.create(stream_execution_environment=stream_env,environment_settings=stream_settings)"
   ]
  },
  {
   "cell_type": "code",
   "execution_count": 16,
   "id": "cf0f072f-1042-49ce-ad83-b227b5f0203c",
   "metadata": {
    "tags": []
   },
   "outputs": [
    {
     "data": {
      "text/plain": [
       "<pyflink.common.configuration.Configuration at 0x27ea289e790>"
      ]
     },
     "execution_count": 16,
     "metadata": {},
     "output_type": "execute_result"
    }
   ],
   "source": [
    "stream_tbl_env.get_config().get_configuration().set_string(\"parallelism.default\", \"1\")"
   ]
  },
  {
   "cell_type": "code",
   "execution_count": 17,
   "id": "817c3bea-a493-4257-a511-cd9845b746cb",
   "metadata": {
    "tags": []
   },
   "outputs": [
    {
     "data": {
      "text/plain": [
       "<pyflink.datastream.stream_execution_environment.StreamExecutionEnvironment at 0x27eff863ac0>"
      ]
     },
     "execution_count": 17,
     "metadata": {},
     "output_type": "execute_result"
    }
   ],
   "source": [
    "stream_env.set_parallelism(1)"
   ]
  },
  {
   "cell_type": "code",
   "execution_count": 18,
   "id": "064ecd1e-edde-4576-915c-156f66c31145",
   "metadata": {},
   "outputs": [],
   "source": [
    "# Put Jars in: D:\\Users\\kritagya\\anaconda3\\envs\\PyFlink\\Lib\\site-packages\\pyflink"
   ]
  },
  {
   "cell_type": "code",
   "execution_count": 19,
   "id": "5701ff80-f81d-488e-ade1-528ec64ff158",
   "metadata": {
    "tags": []
   },
   "outputs": [],
   "source": [
    "# stream_tbl_env.get_config().set('pipeline.jars','file:///C:/Users/krita/Udemy/PyFlink/flink-sql-connector-kafka-1.17.1.jar')"
   ]
  },
  {
   "cell_type": "code",
   "execution_count": 20,
   "id": "964ea922-c1ca-4758-bb7d-6c62b92bbbca",
   "metadata": {
    "tags": []
   },
   "outputs": [],
   "source": [
    "# stream_env.add_jars('pipeline.jars','file:///C:/Users/krita/Udemy/PyFlink/flink-sql-connector-kafka-1.17.1.jar')"
   ]
  },
  {
   "cell_type": "code",
   "execution_count": 21,
   "id": "28431704-4dff-4cc9-b81c-413de6db99d4",
   "metadata": {
    "tags": []
   },
   "outputs": [],
   "source": [
    "json_types = [Types.STRING(),Types.STRING(),Types.INT(),Types.DOUBLE(),Types.SQL_DATE()]"
   ]
  },
  {
   "cell_type": "code",
   "execution_count": 22,
   "id": "b85b22de-8d77-4d73-9a9a-a5fb82162be5",
   "metadata": {
    "tags": []
   },
   "outputs": [],
   "source": [
    "json_names = ['seller_id','product','quantity','product_price','sales_date']"
   ]
  },
  {
   "cell_type": "code",
   "execution_count": 23,
   "id": "bc0c516b-f7d7-4705-8286-bd17a1d0d9c2",
   "metadata": {
    "tags": []
   },
   "outputs": [],
   "source": [
    "json_schema = Types.ROW_NAMED(field_names=json_names,field_types=json_types)"
   ]
  },
  {
   "cell_type": "code",
   "execution_count": 24,
   "id": "b98f39da-74e4-457a-8391-21cf64aa2531",
   "metadata": {
    "tags": []
   },
   "outputs": [],
   "source": [
    "json_deserialization_schema = JsonRowDeserializationSchema.Builder()\\\n",
    "                                                        .type_info(type_info=json_schema)\\\n",
    "                                                        .ignore_parse_errors()\\\n",
    "                                                        .build()"
   ]
  },
  {
   "cell_type": "code",
   "execution_count": 25,
   "id": "52ccb0a6-bbd2-4b15-9de6-c59cb9672530",
   "metadata": {
    "tags": []
   },
   "outputs": [],
   "source": [
    "kafka_source = KafkaSource.builder() \\\n",
    "    .set_bootstrap_servers('localhost:9092') \\\n",
    "    .set_topics(\"productsales\") \\\n",
    "    .set_group_id(\"source-demo\") \\\n",
    "    .set_starting_offsets(KafkaOffsetsInitializer.earliest()) \\\n",
    "    .set_value_only_deserializer(deserialization_schema=json_deserialization_schema) \\\n",
    "    .build()"
   ]
  },
  {
   "cell_type": "code",
   "execution_count": 26,
   "id": "b5611b1d-838a-40f2-afd3-9673ebdf2212",
   "metadata": {
    "tags": []
   },
   "outputs": [],
   "source": [
    "ds_source = stream_env.from_source(source=kafka_source,watermark_strategy=WatermarkStrategy.no_watermarks(),source_name='kafka_tbl_source')"
   ]
  },
  {
   "cell_type": "code",
   "execution_count": 27,
   "id": "38fb9ca2-6027-4569-922f-c2507ccd6392",
   "metadata": {
    "tags": []
   },
   "outputs": [],
   "source": [
    "kafka_stream_tbl = stream_tbl_env.from_data_stream(data_stream=ds_source)"
   ]
  },
  {
   "cell_type": "code",
   "execution_count": 28,
   "id": "9832a5f5-5991-4548-b310-d62ee2b1df97",
   "metadata": {
    "tags": []
   },
   "outputs": [],
   "source": [
    "kafka_stream_tbl = kafka_stream_tbl.add_columns((col_sp('quantity')*col_sp('product_price')).alias('total_cost'))"
   ]
  },
  {
   "cell_type": "code",
   "execution_count": 29,
   "id": "68173293-7840-44e6-8969-47a8f741e85f",
   "metadata": {
    "tags": []
   },
   "outputs": [],
   "source": [
    "ds_sink = stream_tbl_env.to_data_stream(table=kafka_stream_tbl)"
   ]
  },
  {
   "cell_type": "code",
   "execution_count": 30,
   "id": "5bd53413-63d4-4075-bfef-b9cf1967b3ff",
   "metadata": {
    "tags": []
   },
   "outputs": [],
   "source": [
    "json_types = [Types.STRING(),Types.STRING(),Types.INT(),Types.DOUBLE(),Types.SQL_DATE(), Types.DOUBLE()]"
   ]
  },
  {
   "cell_type": "code",
   "execution_count": 31,
   "id": "d5683a3c-54da-48ff-a065-4d9e16c3f327",
   "metadata": {
    "tags": []
   },
   "outputs": [],
   "source": [
    "json_names = ['seller_id','product','quantity','product_price','sales_date', 'total_cost']"
   ]
  },
  {
   "cell_type": "code",
   "execution_count": 32,
   "id": "d59085a4-0b5b-4e42-bc52-e050710550e8",
   "metadata": {
    "tags": []
   },
   "outputs": [],
   "source": [
    "json_schema = Types.ROW_NAMED(field_names=json_names,field_types=json_types)"
   ]
  },
  {
   "cell_type": "code",
   "execution_count": 33,
   "id": "33594905-a7c2-4393-92e9-915e615d9375",
   "metadata": {
    "tags": []
   },
   "outputs": [],
   "source": [
    "json_serialization_schema = JsonRowSerializationSchema.Builder()\\\n",
    "                                                    .with_type_info(type_info=json_schema)\\\n",
    "                                                    .build()"
   ]
  },
  {
   "cell_type": "code",
   "execution_count": 34,
   "id": "d1c621e1-5579-43dd-853a-a29acb8ac736",
   "metadata": {
    "tags": []
   },
   "outputs": [],
   "source": [
    "kafka_serialization_schema = KafkaRecordSerializationSchema.builder()\\\n",
    "                                                        .set_topic('productsales1')\\\n",
    "                                                        .set_value_serialization_schema(value_serialization_schema=json_serialization_schema)\\\n",
    "                                                        .build()"
   ]
  },
  {
   "cell_type": "code",
   "execution_count": 35,
   "id": "abc66477-9b4d-425e-9130-53112d58bd53",
   "metadata": {
    "tags": []
   },
   "outputs": [],
   "source": [
    "kafka_sink = KafkaSink.builder()\\\n",
    "                        .set_bootstrap_servers('localhost:9092')\\\n",
    "                        .set_record_serializer(record_serializer=kafka_serialization_schema)\\\n",
    "                        .set_delivery_guarantee(DeliveryGuarantee.AT_LEAST_ONCE)\\\n",
    "                        .build()"
   ]
  },
  {
   "cell_type": "code",
   "execution_count": 36,
   "id": "e617a047-d9ab-4755-84c5-3f854bebde61",
   "metadata": {
    "tags": []
   },
   "outputs": [
    {
     "data": {
      "text/plain": [
       "<pyflink.datastream.data_stream.DataStreamSink at 0x27ea29bbcd0>"
      ]
     },
     "execution_count": 36,
     "metadata": {},
     "output_type": "execute_result"
    }
   ],
   "source": [
    "ds_sink.sink_to(sink=kafka_sink)"
   ]
  },
  {
   "cell_type": "code",
   "execution_count": null,
   "id": "05e4cc8d-0357-4f4e-961e-e08d151d051b",
   "metadata": {
    "tags": []
   },
   "outputs": [],
   "source": [
    "stream_env.execute()"
   ]
  },
  {
   "cell_type": "code",
   "execution_count": null,
   "id": "182334f5-fd8b-4ede-8653-be515e7648b0",
   "metadata": {},
   "outputs": [],
   "source": []
  }
 ],
 "metadata": {
  "kernelspec": {
   "display_name": "Python 3 (ipykernel)",
   "language": "python",
   "name": "python3"
  },
  "language_info": {
   "codemirror_mode": {
    "name": "ipython",
    "version": 3
   },
   "file_extension": ".py",
   "mimetype": "text/x-python",
   "name": "python",
   "nbconvert_exporter": "python",
   "pygments_lexer": "ipython3",
   "version": "3.8.18"
  }
 },
 "nbformat": 4,
 "nbformat_minor": 5
}
