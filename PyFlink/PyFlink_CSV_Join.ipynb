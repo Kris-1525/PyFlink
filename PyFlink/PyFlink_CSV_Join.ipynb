{
 "cells": [
  {
   "cell_type": "code",
   "execution_count": 1,
   "id": "a1af7353-e12f-4810-b081-07ee7f79faf0",
   "metadata": {
    "tags": []
   },
   "outputs": [],
   "source": [
    "from pyflink.table import CsvTableSource, CsvTableSink, StreamTableEnvironment, EnvironmentSettings, Schema, DataTypes, WriteMode, ChangelogMode"
   ]
  },
  {
   "cell_type": "code",
   "execution_count": 2,
   "id": "0f935840-3612-4023-b61c-427accc0cb79",
   "metadata": {
    "tags": []
   },
   "outputs": [],
   "source": [
    "from pyflink.datastream import StreamExecutionEnvironment"
   ]
  },
  {
   "cell_type": "code",
   "execution_count": 3,
   "id": "2e9f3e71-3c2a-4959-9f3d-e076e95dd0eb",
   "metadata": {
    "tags": []
   },
   "outputs": [],
   "source": [
    "from pyflink.table.expressions import col as col_fk"
   ]
  },
  {
   "cell_type": "code",
   "execution_count": 4,
   "id": "65a550fa-83c4-4d95-8e8d-679a7f5581f3",
   "metadata": {
    "tags": []
   },
   "outputs": [],
   "source": [
    "from pyflink.common.typeinfo import Types, TypeInformation"
   ]
  },
  {
   "cell_type": "code",
   "execution_count": 5,
   "id": "95c724ae-12d7-4429-81bb-80fd715f8504",
   "metadata": {
    "tags": []
   },
   "outputs": [],
   "source": [
    "stream_env = StreamExecutionEnvironment.get_execution_environment()"
   ]
  },
  {
   "cell_type": "code",
   "execution_count": 6,
   "id": "46ae5ccd-0130-44e2-b487-23eb174411a9",
   "metadata": {
    "tags": []
   },
   "outputs": [],
   "source": [
    "env_set = EnvironmentSettings.new_instance()\\\n",
    "                            .in_streaming_mode()\\\n",
    "                            .build()"
   ]
  },
  {
   "cell_type": "code",
   "execution_count": 7,
   "id": "0ce9a7db-ebc2-4fea-808f-72f48ffe3806",
   "metadata": {
    "tags": []
   },
   "outputs": [],
   "source": [
    "stream_tbl_env = StreamTableEnvironment.create(stream_execution_environment=stream_env, \n",
    "                                               environment_settings=env_set)"
   ]
  },
  {
   "cell_type": "code",
   "execution_count": 8,
   "id": "17c12fd0-8f97-4bcb-af08-5d3c99813369",
   "metadata": {
    "tags": []
   },
   "outputs": [],
   "source": [
    "# parallelism should be 1 because join is by default done by parallelism creating multiple file"
   ]
  },
  {
   "cell_type": "code",
   "execution_count": 9,
   "id": "848a87f8-7850-4338-8c90-a15d0a411432",
   "metadata": {
    "tags": []
   },
   "outputs": [
    {
     "data": {
      "text/plain": [
       "<pyflink.common.configuration.Configuration at 0x1995b519550>"
      ]
     },
     "execution_count": 9,
     "metadata": {},
     "output_type": "execute_result"
    }
   ],
   "source": [
    "stream_tbl_env.get_config().get_configuration().set_string(\"parallelism.default\", \"1\")"
   ]
  },
  {
   "cell_type": "code",
   "execution_count": 10,
   "id": "2f4237ed-1d9e-4c00-8bff-2e1690fb7bcd",
   "metadata": {
    "tags": []
   },
   "outputs": [
    {
     "data": {
      "text/plain": [
       "<pyflink.datastream.stream_execution_environment.StreamExecutionEnvironment at 0x199386cfac0>"
      ]
     },
     "execution_count": 10,
     "metadata": {},
     "output_type": "execute_result"
    }
   ],
   "source": [
    "stream_env.set_parallelism(1)"
   ]
  },
  {
   "cell_type": "code",
   "execution_count": 11,
   "id": "a28de99d-eb56-4f51-b739-3e9b489bad2f",
   "metadata": {
    "tags": []
   },
   "outputs": [],
   "source": [
    "csv_tbl_sch_name_1 = ['seller_id', 'product', 'quantity', 'product_price', 'sales_date']\n",
    "csv_tbl_sch_type_1 = [DataTypes.STRING(), DataTypes.STRING(), DataTypes.BIGINT(), DataTypes.DOUBLE(), DataTypes.DATE()]"
   ]
  },
  {
   "cell_type": "code",
   "execution_count": 12,
   "id": "79a6e729-fcfb-4e98-bbd0-f4ca0626efda",
   "metadata": {
    "tags": []
   },
   "outputs": [],
   "source": [
    "csv_tbl_sch_name_2 = ['id', 'city', 'state']\n",
    "csv_tbl_sch_type_2 = [DataTypes.STRING(), DataTypes.STRING(), DataTypes.STRING()]"
   ]
  },
  {
   "cell_type": "code",
   "execution_count": 13,
   "id": "e18fc386-f475-4ce8-8eb1-179c910f0e3f",
   "metadata": {
    "tags": []
   },
   "outputs": [],
   "source": [
    "csv_tbl_1 = CsvTableSource(source_path='locale-sales.csv', \n",
    "                           field_names=csv_tbl_sch_name_1, \n",
    "                           field_types=csv_tbl_sch_type_1, \n",
    "                           ignore_first_line=True, \n",
    "                           empty_column_as_null=True)"
   ]
  },
  {
   "cell_type": "code",
   "execution_count": 14,
   "id": "4116363b-13dd-4840-ae21-aad6c14326dc",
   "metadata": {
    "tags": []
   },
   "outputs": [],
   "source": [
    "csv_tbl_2 = CsvTableSource(source_path='sellers.csv', \n",
    "                           field_names=csv_tbl_sch_name_2, \n",
    "                           field_types=csv_tbl_sch_type_2, \n",
    "                           ignore_first_line=True, \n",
    "                           empty_column_as_null=True)"
   ]
  },
  {
   "cell_type": "code",
   "execution_count": 15,
   "id": "6319a5d0-21ba-4ba9-951f-2dc2d43428fd",
   "metadata": {
    "tags": []
   },
   "outputs": [],
   "source": [
    "csv_tbl_load_1 = stream_tbl_env.from_table_source(csv_tbl_1)"
   ]
  },
  {
   "cell_type": "code",
   "execution_count": 16,
   "id": "9c941bb6-1f35-4afc-8e5a-251f43c105cd",
   "metadata": {
    "tags": []
   },
   "outputs": [],
   "source": [
    "csv_tbl_load_2 = stream_tbl_env.from_table_source(csv_tbl_2)"
   ]
  },
  {
   "cell_type": "code",
   "execution_count": 17,
   "id": "127a7904-3f57-41ce-8f8e-99d2fa9c1088",
   "metadata": {
    "tags": []
   },
   "outputs": [],
   "source": [
    "csv_tbl_load_join = csv_tbl_load_1.left_outer_join(right=csv_tbl_load_2, join_predicate=(col_fk('seller_id') == col_fk('id')))"
   ]
  },
  {
   "cell_type": "code",
   "execution_count": 18,
   "id": "a855a859-1512-40d2-8473-cc3b568cc47e",
   "metadata": {
    "tags": []
   },
   "outputs": [],
   "source": [
    "csv_ds_load_join = stream_tbl_env.to_changelog_stream(table=csv_tbl_load_join,\n",
    "                                                      changelog_mode=ChangelogMode.all())"
   ]
  },
  {
   "cell_type": "code",
   "execution_count": 19,
   "id": "d4d4ecb8-17c0-4647-a626-fee40c57e5be",
   "metadata": {
    "tags": []
   },
   "outputs": [],
   "source": [
    "# with csv_ds_load_join.execute_and_collect() as results:\n",
    "#     for result in results:\n",
    "#         print(result)"
   ]
  },
  {
   "cell_type": "code",
   "execution_count": 20,
   "id": "fac382cc-0f26-4fb8-9fdb-33be660d18e5",
   "metadata": {
    "tags": []
   },
   "outputs": [],
   "source": [
    "csv_tbl_load_join = stream_tbl_env.from_data_stream(csv_ds_load_join)"
   ]
  },
  {
   "cell_type": "code",
   "execution_count": 21,
   "id": "52660eb0-131c-4daf-bc7e-0932db838774",
   "metadata": {
    "tags": []
   },
   "outputs": [],
   "source": [
    "# with csv_tbl_load_join.execute().collect() as results:\n",
    "#     for result in results:\n",
    "#         print(result)"
   ]
  },
  {
   "cell_type": "code",
   "execution_count": 22,
   "id": "dd457887-6ac8-4156-8b76-eb8578ff22d7",
   "metadata": {
    "tags": []
   },
   "outputs": [],
   "source": [
    "csv_tbl_sch_name_join = csv_tbl_load_join.get_schema().get_field_names()\n",
    "csv_tbl_sch_type_join = csv_tbl_load_join.get_schema().get_field_data_types()"
   ]
  },
  {
   "cell_type": "code",
   "execution_count": 23,
   "id": "9f474c65-7218-42b1-ac7f-8d65ec55923e",
   "metadata": {
    "tags": []
   },
   "outputs": [],
   "source": [
    "csv_tbl_sink_join = CsvTableSink(field_names=csv_tbl_sch_name_join,\n",
    "                                 field_types=csv_tbl_sch_type_join,\n",
    "                                 path='./CSV/seller_join.csv',\n",
    "                                 field_delimiter=',',\n",
    "                                 num_files=-1,\n",
    "                                 write_mode=WriteMode.OVERWRITE)"
   ]
  },
  {
   "cell_type": "code",
   "execution_count": 24,
   "id": "3c9d1001-883e-4e2e-a6b1-a5ed42f141b8",
   "metadata": {
    "tags": []
   },
   "outputs": [],
   "source": [
    "stream_tbl_env.register_table_sink('csv_tbl_sink_join', csv_tbl_sink_join)"
   ]
  },
  {
   "cell_type": "code",
   "execution_count": 25,
   "id": "f39b6b8c-aee7-4e05-8a6f-18c8e8b0e1db",
   "metadata": {
    "tags": []
   },
   "outputs": [
    {
     "data": {
      "text/plain": [
       "<pyflink.table.table_result.TableResult at 0x1995b547bb0>"
      ]
     },
     "execution_count": 25,
     "metadata": {},
     "output_type": "execute_result"
    }
   ],
   "source": [
    "csv_tbl_load_join.execute_insert('csv_tbl_sink_join')"
   ]
  },
  {
   "cell_type": "code",
   "execution_count": null,
   "id": "3d695f12-6b17-477b-9d65-18fab54c66bf",
   "metadata": {},
   "outputs": [],
   "source": []
  }
 ],
 "metadata": {
  "kernelspec": {
   "display_name": "Python 3 (ipykernel)",
   "language": "python",
   "name": "python3"
  },
  "language_info": {
   "codemirror_mode": {
    "name": "ipython",
    "version": 3
   },
   "file_extension": ".py",
   "mimetype": "text/x-python",
   "name": "python",
   "nbconvert_exporter": "python",
   "pygments_lexer": "ipython3",
   "version": "3.8.18"
  }
 },
 "nbformat": 4,
 "nbformat_minor": 5
}
