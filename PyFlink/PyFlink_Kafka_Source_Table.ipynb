{
 "cells": [
  {
   "cell_type": "code",
   "execution_count": 1,
   "id": "779d292b-5341-4ade-ad5c-7d1e0e1c9a73",
   "metadata": {
    "tags": []
   },
   "outputs": [],
   "source": [
    "from pyflink.table import TableEnvironment, EnvironmentSettings, DataTypes, StreamTableEnvironment, TableDescriptor, FormatDescriptor"
   ]
  },
  {
   "cell_type": "code",
   "execution_count": 2,
   "id": "11ccf227-1a66-4e08-bbbe-ad72c1a50016",
   "metadata": {
    "tags": []
   },
   "outputs": [],
   "source": [
    "from pyflink.table.schema import Schema"
   ]
  },
  {
   "cell_type": "code",
   "execution_count": 3,
   "id": "23e32569-2869-4325-8701-fb8d83ae3cca",
   "metadata": {
    "tags": []
   },
   "outputs": [],
   "source": [
    "from pyflink.common.typeinfo import RowTypeInfo"
   ]
  },
  {
   "cell_type": "code",
   "execution_count": 4,
   "id": "7d74c62a-f0a3-48b1-a6ff-5e1b0b825f59",
   "metadata": {
    "tags": []
   },
   "outputs": [],
   "source": [
    "from pyflink.datastream.connectors.kafka import KafkaSource, KafkaOffsetsInitializer, KafkaSink, DeliveryGuarantee, KafkaRecordSerializationSchema"
   ]
  },
  {
   "cell_type": "code",
   "execution_count": 5,
   "id": "b3d37fa0-97d4-47a3-9c2d-0244a6b4c964",
   "metadata": {
    "tags": []
   },
   "outputs": [],
   "source": [
    "from pyflink.common.serialization import SimpleStringSchema"
   ]
  },
  {
   "cell_type": "code",
   "execution_count": 6,
   "id": "f30702ff-2bfc-4bbe-9be8-bc01c27ae6d2",
   "metadata": {
    "tags": []
   },
   "outputs": [],
   "source": [
    "from pyflink.datastream.formats.json import JsonRowDeserializationSchema, JsonRowSerializationSchema"
   ]
  },
  {
   "cell_type": "code",
   "execution_count": 7,
   "id": "d09fab3f-d8a3-4c9f-b476-1839d0122242",
   "metadata": {
    "tags": []
   },
   "outputs": [],
   "source": [
    "from pyflink.datastream import StreamExecutionEnvironment"
   ]
  },
  {
   "cell_type": "code",
   "execution_count": 8,
   "id": "50da28a2-62ff-4955-ad83-a30ec1b2b1f9",
   "metadata": {
    "tags": []
   },
   "outputs": [],
   "source": [
    "from pyflink.table.expressions import col as col_sp"
   ]
  },
  {
   "cell_type": "code",
   "execution_count": 9,
   "id": "0d46231e-02de-4774-816a-012b09fa5427",
   "metadata": {
    "tags": []
   },
   "outputs": [],
   "source": [
    "from pyflink.common import Types"
   ]
  },
  {
   "cell_type": "code",
   "execution_count": 10,
   "id": "07dca7fd-00b8-4b0e-9e9d-eaef2eebf813",
   "metadata": {
    "tags": []
   },
   "outputs": [],
   "source": [
    "from pyflink.common.watermark_strategy import WatermarkStrategy"
   ]
  },
  {
   "cell_type": "code",
   "execution_count": 11,
   "id": "1394bc93-e982-40ee-9a63-fcef2bc89990",
   "metadata": {
    "tags": []
   },
   "outputs": [],
   "source": [
    "from pyflink.common.configuration import Configuration"
   ]
  },
  {
   "cell_type": "code",
   "execution_count": 12,
   "id": "ccba46c4-c063-4180-ad65-5621a15c00ef",
   "metadata": {
    "tags": []
   },
   "outputs": [],
   "source": [
    "from pyflink.common.restart_strategy import RestartStrategies"
   ]
  },
  {
   "cell_type": "code",
   "execution_count": 13,
   "id": "acce5a76-65dd-40c1-8ac3-bb4747a6cba1",
   "metadata": {
    "tags": []
   },
   "outputs": [],
   "source": [
    "from pyflink.table import CsvTableSink"
   ]
  },
  {
   "cell_type": "code",
   "execution_count": 14,
   "id": "d5cb52d3-60aa-4ab5-8f47-4654da4c5f0f",
   "metadata": {
    "tags": []
   },
   "outputs": [],
   "source": [
    "stream_env = StreamExecutionEnvironment.get_execution_environment()"
   ]
  },
  {
   "cell_type": "code",
   "execution_count": 15,
   "id": "9c126237-44c9-4dba-aab7-ca3798f754c8",
   "metadata": {
    "tags": []
   },
   "outputs": [],
   "source": [
    "stream_settings = EnvironmentSettings.new_instance()\\\n",
    "                                    .in_streaming_mode()\\\n",
    "                                    .build()"
   ]
  },
  {
   "cell_type": "code",
   "execution_count": 16,
   "id": "8c3139bb-634f-4868-9f73-4d0c0d4a1d44",
   "metadata": {
    "tags": []
   },
   "outputs": [],
   "source": [
    "stream_tbl_env = StreamTableEnvironment.create(stream_execution_environment=stream_env,environment_settings=stream_settings)"
   ]
  },
  {
   "cell_type": "code",
   "execution_count": 17,
   "id": "cf0f072f-1042-49ce-ad83-b227b5f0203c",
   "metadata": {
    "tags": []
   },
   "outputs": [
    {
     "data": {
      "text/plain": [
       "<pyflink.common.configuration.Configuration at 0x2675bd28fd0>"
      ]
     },
     "execution_count": 17,
     "metadata": {},
     "output_type": "execute_result"
    }
   ],
   "source": [
    "stream_tbl_env.get_config().get_configuration().set_string(\"parallelism.default\", \"1\")"
   ]
  },
  {
   "cell_type": "code",
   "execution_count": 18,
   "id": "817c3bea-a493-4257-a511-cd9845b746cb",
   "metadata": {
    "tags": []
   },
   "outputs": [
    {
     "data": {
      "text/plain": [
       "<pyflink.datastream.stream_execution_environment.StreamExecutionEnvironment at 0x2675c134ac0>"
      ]
     },
     "execution_count": 18,
     "metadata": {},
     "output_type": "execute_result"
    }
   ],
   "source": [
    "stream_env.set_parallelism(1)"
   ]
  },
  {
   "cell_type": "code",
   "execution_count": 19,
   "id": "064ecd1e-edde-4576-915c-156f66c31145",
   "metadata": {},
   "outputs": [],
   "source": [
    "# Put Jars in: D:\\Users\\kritagya\\anaconda3\\envs\\PyFlink\\Lib\\site-packages\\pyflink"
   ]
  },
  {
   "cell_type": "code",
   "execution_count": 20,
   "id": "5701ff80-f81d-488e-ade1-528ec64ff158",
   "metadata": {
    "tags": []
   },
   "outputs": [],
   "source": [
    "# stream_tbl_env.get_config().set('pipeline.jars','file:///C:/Users/krita/Udemy/PyFlink/flink-sql-connector-kafka-1.17.1.jar')"
   ]
  },
  {
   "cell_type": "code",
   "execution_count": 21,
   "id": "964ea922-c1ca-4758-bb7d-6c62b92bbbca",
   "metadata": {
    "tags": []
   },
   "outputs": [],
   "source": [
    "# stream_env.add_jars('pipeline.jars','file:///C:/Users/krita/Udemy/PyFlink/flink-sql-connector-kafka-1.17.1.jar')"
   ]
  },
  {
   "cell_type": "code",
   "execution_count": 22,
   "id": "38f9ace4-3614-4fd8-a0bd-525e40a6c590",
   "metadata": {
    "tags": []
   },
   "outputs": [],
   "source": [
    "kafka_tbl_sch_source = Schema.new_builder()\\\n",
    "                            .column_by_metadata(column_name='ts_kaf',data_type=DataTypes.TIMESTAMP(),metadata_key='timestamp')\\\n",
    "                            .column('seller_id', data_type=DataTypes.STRING())\\\n",
    "                            .column('product',data_type=DataTypes.STRING())\\\n",
    "                            .column('quantity',data_type=DataTypes.INT())\\\n",
    "                            .column('product_price',data_type=DataTypes.DOUBLE())\\\n",
    "                            .column('sales_date',data_type=DataTypes.DATE())\\\n",
    "                            .build()"
   ]
  },
  {
   "cell_type": "code",
   "execution_count": 23,
   "id": "1481265a-d12d-4d3a-aa5a-01104b4b4c70",
   "metadata": {
    "tags": []
   },
   "outputs": [],
   "source": [
    "kafka_tbl_dis_source = TableDescriptor.for_connector(connector='kafka')\\\n",
    "                                    .schema(schema=kafka_tbl_sch_source)\\\n",
    "                                    .option('topic','productsales')\\\n",
    "                                    .option('properties.group.id','source-demo-1')\\\n",
    "                                    .option('properties.bootstrap.servers','localhost:9092')\\\n",
    "                                    .option('scan.startup.mode','earliest-offset')\\\n",
    "                                    .format('json')\\\n",
    "                                    .option('json.ignore-parse-errors','true')\\\n",
    "                                    .build()"
   ]
  },
  {
   "cell_type": "code",
   "execution_count": 24,
   "id": "73f1cafa-5e3f-46c6-807d-9855e41f419a",
   "metadata": {
    "tags": []
   },
   "outputs": [],
   "source": [
    "stream_tbl_env.create_table('kafka_source_table', kafka_tbl_dis_source)"
   ]
  },
  {
   "cell_type": "code",
   "execution_count": 25,
   "id": "f06cafb8-1fe5-477d-b6cc-57d8a5167f94",
   "metadata": {
    "tags": []
   },
   "outputs": [],
   "source": [
    "kafka_stream_tbl = stream_tbl_env.scan('kafka_source_table')"
   ]
  },
  {
   "cell_type": "code",
   "execution_count": null,
   "id": "8b1be7be-8194-4a57-9a79-9d94cf588447",
   "metadata": {
    "tags": []
   },
   "outputs": [
    {
     "name": "stdout",
     "output_type": "stream",
     "text": [
      "<Row(datetime.datetime(2023, 10, 16, 21, 48, 57, 978000), 'LNK', 'Toothbrush', 22, 3.99, datetime.date(2021, 7, 1))>\n",
      "<Row(datetime.datetime(2023, 10, 16, 21, 48, 57, 990000), 'LNK', 'Dental Floss', 17, 1.99, datetime.date(2021, 7, 1))>\n",
      "<Row(datetime.datetime(2023, 10, 16, 21, 48, 57, 990000), 'LNK', 'Toothpaste', 8, 4.99, datetime.date(2021, 7, 1))>\n",
      "<Row(datetime.datetime(2023, 10, 16, 21, 48, 57, 990000), 'OMA', 'Toothbrush', 29, 3.99, datetime.date(2021, 7, 1))>\n",
      "<Row(datetime.datetime(2023, 10, 16, 21, 48, 57, 995000), 'OMA', 'Toothpaste', 9, 4.99, datetime.date(2021, 7, 1))>\n",
      "<Row(datetime.datetime(2023, 10, 16, 21, 48, 57, 995000), 'OMA', 'Dental Floss', 23, 1.99, datetime.date(2021, 7, 1))>\n",
      "<Row(datetime.datetime(2023, 10, 16, 21, 48, 58, 9000), 'LNK', 'Toothbrush', 25, 3.99, datetime.date(2021, 7, 2))>\n",
      "<Row(datetime.datetime(2023, 10, 16, 21, 48, 58, 9000), 'LNK', 'Dental Floss', 16, 1.99, datetime.date(2021, 7, 2))>\n",
      "<Row(datetime.datetime(2023, 10, 16, 21, 48, 58, 24000), 'LNK', 'Toothpaste', 9, 4.99, datetime.date(2021, 7, 2))>\n",
      "<Row(datetime.datetime(2023, 10, 16, 21, 48, 58, 24000), 'OMA', 'Toothbrush', 32, 3.99, datetime.date(2021, 7, 2))>\n",
      "<Row(datetime.datetime(2023, 10, 16, 21, 48, 58, 58000), 'OMA', 'Toothpaste', 13, 4.99, datetime.date(2021, 7, 2))>\n",
      "<Row(datetime.datetime(2023, 10, 16, 21, 48, 58, 58000), 'OMA', 'Dental Floss', 18, 1.99, datetime.date(2021, 7, 2))>\n",
      "<Row(datetime.datetime(2023, 10, 16, 21, 48, 58, 70000), 'LNK', 'Toothbrush', 20, 3.99, datetime.date(2021, 7, 3))>\n",
      "<Row(datetime.datetime(2023, 10, 16, 21, 48, 58, 86000), 'LNK', 'Dental Floss', 15, 1.99, datetime.date(2021, 7, 3))>\n",
      "<Row(datetime.datetime(2023, 10, 16, 21, 48, 58, 102000), 'LNK', 'Toothpaste', 11, 4.99, datetime.date(2021, 7, 3))>\n",
      "<Row(datetime.datetime(2023, 10, 16, 21, 48, 58, 103000), 'OMA', 'Toothbrush', 31, 3.99, datetime.date(2021, 7, 3))>\n",
      "<Row(datetime.datetime(2023, 10, 16, 21, 48, 58, 117000), 'OMA', 'Toothpaste', 10, 4.99, datetime.date(2021, 7, 3))>\n",
      "<Row(datetime.datetime(2023, 10, 16, 21, 55, 34, 843000), 'OMA', 'Dental Floss', 21, 1.99, datetime.date(2021, 7, 3))>\n",
      "<Row(datetime.datetime(2023, 10, 16, 21, 55, 34, 843000), 'LNK', 'Dental Floss', 17, 1.99, datetime.date(2021, 7, 1))>\n",
      "<Row(datetime.datetime(2023, 10, 16, 21, 55, 34, 857000), 'LNK', 'Toothpaste', 8, 4.99, datetime.date(2021, 7, 1))>\n",
      "<Row(datetime.datetime(2023, 10, 16, 21, 55, 34, 872000), 'OMA', 'Toothbrush', 29, 3.99, datetime.date(2021, 7, 1))>\n",
      "<Row(datetime.datetime(2023, 10, 16, 21, 55, 34, 904000), 'OMA', 'Toothpaste', 9, 4.99, datetime.date(2021, 7, 1))>\n",
      "<Row(datetime.datetime(2023, 10, 16, 21, 55, 34, 938000), 'OMA', 'Dental Floss', 23, 1.99, datetime.date(2021, 7, 1))>\n",
      "<Row(datetime.datetime(2023, 10, 16, 21, 55, 34, 952000), 'LNK', 'Toothbrush', 25, 3.99, datetime.date(2021, 7, 2))>\n",
      "<Row(datetime.datetime(2023, 10, 16, 21, 55, 34, 952000), 'LNK', 'Dental Floss', 16, 1.99, datetime.date(2021, 7, 2))>\n",
      "<Row(datetime.datetime(2023, 10, 16, 21, 55, 34, 984000), 'LNK', 'Toothpaste', 9, 4.99, datetime.date(2021, 7, 2))>\n",
      "<Row(datetime.datetime(2023, 10, 16, 21, 55, 34, 984000), 'OMA', 'Toothbrush', 32, 3.99, datetime.date(2021, 7, 2))>\n",
      "<Row(datetime.datetime(2023, 10, 16, 21, 55, 34, 997000), 'OMA', 'Toothpaste', 13, 4.99, datetime.date(2021, 7, 2))>\n",
      "<Row(datetime.datetime(2023, 10, 16, 21, 55, 35, 28000), 'OMA', 'Dental Floss', 18, 1.99, datetime.date(2021, 7, 2))>\n",
      "<Row(datetime.datetime(2023, 10, 16, 21, 55, 35, 59000), 'LNK', 'Toothbrush', 20, 3.99, datetime.date(2021, 7, 3))>\n",
      "<Row(datetime.datetime(2023, 10, 16, 21, 55, 35, 75000), 'LNK', 'Dental Floss', 15, 1.99, datetime.date(2021, 7, 3))>\n",
      "<Row(datetime.datetime(2023, 10, 16, 21, 55, 35, 75000), 'LNK', 'Toothpaste', 11, 4.99, datetime.date(2021, 7, 3))>\n",
      "<Row(datetime.datetime(2023, 10, 16, 21, 55, 35, 106000), 'OMA', 'Toothbrush', 31, 3.99, datetime.date(2021, 7, 3))>\n",
      "<Row(datetime.datetime(2023, 10, 16, 21, 55, 35, 106000), 'OMA', 'Toothpaste', 10, 4.99, datetime.date(2021, 7, 3))>\n",
      "<Row(datetime.datetime(2023, 10, 16, 21, 55, 39, 756000), 'OMA', 'Dental Floss', 21, 1.99, datetime.date(2021, 7, 3))>\n",
      "<Row(datetime.datetime(2023, 10, 16, 21, 55, 39, 756000), 'LNK', 'Dental Floss', 17, 1.99, datetime.date(2021, 7, 1))>\n",
      "<Row(datetime.datetime(2023, 10, 16, 21, 55, 39, 771000), 'LNK', 'Toothpaste', 8, 4.99, datetime.date(2021, 7, 1))>\n",
      "<Row(datetime.datetime(2023, 10, 16, 21, 55, 39, 804000), 'OMA', 'Toothbrush', 29, 3.99, datetime.date(2021, 7, 1))>\n",
      "<Row(datetime.datetime(2023, 10, 16, 21, 55, 39, 804000), 'OMA', 'Toothpaste', 9, 4.99, datetime.date(2021, 7, 1))>\n",
      "<Row(datetime.datetime(2023, 10, 16, 21, 55, 39, 818000), 'OMA', 'Dental Floss', 23, 1.99, datetime.date(2021, 7, 1))>\n",
      "<Row(datetime.datetime(2023, 10, 16, 21, 55, 39, 833000), 'LNK', 'Toothbrush', 25, 3.99, datetime.date(2021, 7, 2))>\n",
      "<Row(datetime.datetime(2023, 10, 16, 21, 55, 39, 849000), 'LNK', 'Dental Floss', 16, 1.99, datetime.date(2021, 7, 2))>\n",
      "<Row(datetime.datetime(2023, 10, 16, 21, 55, 39, 865000), 'LNK', 'Toothpaste', 9, 4.99, datetime.date(2021, 7, 2))>\n",
      "<Row(datetime.datetime(2023, 10, 16, 21, 55, 39, 865000), 'OMA', 'Toothbrush', 32, 3.99, datetime.date(2021, 7, 2))>\n",
      "<Row(datetime.datetime(2023, 10, 16, 21, 55, 39, 897000), 'OMA', 'Toothpaste', 13, 4.99, datetime.date(2021, 7, 2))>\n",
      "<Row(datetime.datetime(2023, 10, 16, 21, 55, 39, 898000), 'OMA', 'Dental Floss', 18, 1.99, datetime.date(2021, 7, 2))>\n",
      "<Row(datetime.datetime(2023, 10, 16, 21, 55, 39, 929000), 'LNK', 'Toothbrush', 20, 3.99, datetime.date(2021, 7, 3))>\n",
      "<Row(datetime.datetime(2023, 10, 16, 21, 55, 39, 929000), 'LNK', 'Dental Floss', 15, 1.99, datetime.date(2021, 7, 3))>\n",
      "<Row(datetime.datetime(2023, 10, 16, 21, 55, 39, 943000), 'LNK', 'Toothpaste', 11, 4.99, datetime.date(2021, 7, 3))>\n",
      "<Row(datetime.datetime(2023, 10, 16, 21, 55, 39, 959000), 'OMA', 'Toothbrush', 31, 3.99, datetime.date(2021, 7, 3))>\n",
      "<Row(datetime.datetime(2023, 10, 16, 21, 55, 39, 976000), 'OMA', 'Toothpaste', 10, 4.99, datetime.date(2021, 7, 3))>\n",
      "<Row(datetime.datetime(2023, 10, 16, 21, 55, 41, 854000), 'OMA', 'Dental Floss', 21, 1.99, datetime.date(2021, 7, 3))>\n",
      "<Row(datetime.datetime(2023, 10, 16, 21, 55, 41, 854000), 'LNK', 'Dental Floss', 17, 1.99, datetime.date(2021, 7, 1))>\n",
      "<Row(datetime.datetime(2023, 10, 16, 21, 55, 41, 868000), 'LNK', 'Toothpaste', 8, 4.99, datetime.date(2021, 7, 1))>\n",
      "<Row(datetime.datetime(2023, 10, 16, 21, 55, 41, 900000), 'OMA', 'Toothbrush', 29, 3.99, datetime.date(2021, 7, 1))>\n",
      "<Row(datetime.datetime(2023, 10, 16, 21, 55, 41, 900000), 'OMA', 'Toothpaste', 9, 4.99, datetime.date(2021, 7, 1))>\n",
      "<Row(datetime.datetime(2023, 10, 16, 21, 55, 41, 929000), 'OMA', 'Dental Floss', 23, 1.99, datetime.date(2021, 7, 1))>\n",
      "<Row(datetime.datetime(2023, 10, 16, 21, 55, 41, 930000), 'LNK', 'Toothbrush', 25, 3.99, datetime.date(2021, 7, 2))>\n",
      "<Row(datetime.datetime(2023, 10, 16, 21, 55, 41, 945000), 'LNK', 'Dental Floss', 16, 1.99, datetime.date(2021, 7, 2))>\n",
      "<Row(datetime.datetime(2023, 10, 16, 21, 55, 41, 960000), 'LNK', 'Toothpaste', 9, 4.99, datetime.date(2021, 7, 2))>\n",
      "<Row(datetime.datetime(2023, 10, 16, 21, 55, 41, 977000), 'OMA', 'Toothbrush', 32, 3.99, datetime.date(2021, 7, 2))>\n",
      "<Row(datetime.datetime(2023, 10, 16, 21, 55, 41, 992000), 'OMA', 'Toothpaste', 13, 4.99, datetime.date(2021, 7, 2))>\n",
      "<Row(datetime.datetime(2023, 10, 16, 21, 55, 41, 992000), 'OMA', 'Dental Floss', 18, 1.99, datetime.date(2021, 7, 2))>\n",
      "<Row(datetime.datetime(2023, 10, 16, 21, 55, 42, 23000), 'LNK', 'Toothbrush', 20, 3.99, datetime.date(2021, 7, 3))>\n",
      "<Row(datetime.datetime(2023, 10, 16, 21, 55, 42, 23000), 'LNK', 'Dental Floss', 15, 1.99, datetime.date(2021, 7, 3))>\n",
      "<Row(datetime.datetime(2023, 10, 16, 21, 55, 42, 54000), 'LNK', 'Toothpaste', 11, 4.99, datetime.date(2021, 7, 3))>\n",
      "<Row(datetime.datetime(2023, 10, 16, 21, 55, 42, 55000), 'OMA', 'Toothbrush', 31, 3.99, datetime.date(2021, 7, 3))>\n",
      "<Row(datetime.datetime(2023, 10, 16, 21, 55, 42, 69000), 'OMA', 'Toothpaste', 10, 4.99, datetime.date(2021, 7, 3))>\n",
      "<Row(datetime.datetime(2023, 10, 16, 21, 55, 46, 76000), 'OMA', 'Dental Floss', 21, 1.99, datetime.date(2021, 7, 3))>\n",
      "<Row(datetime.datetime(2023, 10, 16, 21, 55, 46, 98000), 'LNK', 'Dental Floss', 17, 1.99, datetime.date(2021, 7, 1))>\n",
      "<Row(datetime.datetime(2023, 10, 16, 21, 55, 46, 110000), 'LNK', 'Toothpaste', 8, 4.99, datetime.date(2021, 7, 1))>\n",
      "<Row(datetime.datetime(2023, 10, 16, 21, 55, 46, 122000), 'OMA', 'Toothbrush', 29, 3.99, datetime.date(2021, 7, 1))>\n",
      "<Row(datetime.datetime(2023, 10, 16, 21, 55, 46, 122000), 'OMA', 'Toothpaste', 9, 4.99, datetime.date(2021, 7, 1))>\n",
      "<Row(datetime.datetime(2023, 10, 16, 21, 55, 46, 137000), 'OMA', 'Dental Floss', 23, 1.99, datetime.date(2021, 7, 1))>\n",
      "<Row(datetime.datetime(2023, 10, 16, 21, 55, 46, 152000), 'LNK', 'Toothbrush', 25, 3.99, datetime.date(2021, 7, 2))>\n",
      "<Row(datetime.datetime(2023, 10, 16, 21, 55, 46, 167000), 'LNK', 'Dental Floss', 16, 1.99, datetime.date(2021, 7, 2))>\n",
      "<Row(datetime.datetime(2023, 10, 16, 21, 55, 46, 183000), 'LNK', 'Toothpaste', 9, 4.99, datetime.date(2021, 7, 2))>\n",
      "<Row(datetime.datetime(2023, 10, 16, 21, 55, 46, 198000), 'OMA', 'Toothbrush', 32, 3.99, datetime.date(2021, 7, 2))>\n",
      "<Row(datetime.datetime(2023, 10, 16, 21, 55, 46, 232000), 'OMA', 'Toothpaste', 13, 4.99, datetime.date(2021, 7, 2))>\n",
      "<Row(datetime.datetime(2023, 10, 16, 21, 55, 46, 232000), 'OMA', 'Dental Floss', 18, 1.99, datetime.date(2021, 7, 2))>\n",
      "<Row(datetime.datetime(2023, 10, 16, 21, 55, 46, 244000), 'LNK', 'Toothbrush', 20, 3.99, datetime.date(2021, 7, 3))>\n",
      "<Row(datetime.datetime(2023, 10, 16, 21, 55, 46, 261000), 'LNK', 'Dental Floss', 15, 1.99, datetime.date(2021, 7, 3))>\n",
      "<Row(datetime.datetime(2023, 10, 16, 21, 55, 46, 276000), 'LNK', 'Toothpaste', 11, 4.99, datetime.date(2021, 7, 3))>\n",
      "<Row(datetime.datetime(2023, 10, 16, 21, 55, 46, 292000), 'OMA', 'Toothbrush', 31, 3.99, datetime.date(2021, 7, 3))>\n",
      "<Row(datetime.datetime(2023, 10, 16, 21, 55, 46, 307000), 'OMA', 'Toothpaste', 10, 4.99, datetime.date(2021, 7, 3))>\n",
      "<Row(datetime.datetime(2023, 10, 16, 21, 55, 50, 463000), 'OMA', 'Dental Floss', 21, 1.99, datetime.date(2021, 7, 3))>\n",
      "<Row(datetime.datetime(2023, 10, 16, 21, 55, 50, 479000), 'LNK', 'Dental Floss', 17, 1.99, datetime.date(2021, 7, 1))>\n",
      "<Row(datetime.datetime(2023, 10, 16, 21, 55, 50, 494000), 'LNK', 'Toothpaste', 8, 4.99, datetime.date(2021, 7, 1))>\n",
      "<Row(datetime.datetime(2023, 10, 16, 21, 55, 50, 494000), 'OMA', 'Toothbrush', 29, 3.99, datetime.date(2021, 7, 1))>\n",
      "<Row(datetime.datetime(2023, 10, 16, 21, 55, 50, 525000), 'OMA', 'Toothpaste', 9, 4.99, datetime.date(2021, 7, 1))>\n",
      "<Row(datetime.datetime(2023, 10, 16, 21, 55, 50, 526000), 'OMA', 'Dental Floss', 23, 1.99, datetime.date(2021, 7, 1))>\n",
      "<Row(datetime.datetime(2023, 10, 16, 21, 55, 50, 555000), 'LNK', 'Toothbrush', 25, 3.99, datetime.date(2021, 7, 2))>\n",
      "<Row(datetime.datetime(2023, 10, 16, 21, 55, 50, 555000), 'LNK', 'Dental Floss', 16, 1.99, datetime.date(2021, 7, 2))>\n",
      "<Row(datetime.datetime(2023, 10, 16, 21, 55, 50, 570000), 'LNK', 'Toothpaste', 9, 4.99, datetime.date(2021, 7, 2))>\n",
      "<Row(datetime.datetime(2023, 10, 16, 21, 55, 50, 585000), 'OMA', 'Toothbrush', 32, 3.99, datetime.date(2021, 7, 2))>\n",
      "<Row(datetime.datetime(2023, 10, 16, 21, 55, 50, 601000), 'OMA', 'Toothpaste', 13, 4.99, datetime.date(2021, 7, 2))>\n",
      "<Row(datetime.datetime(2023, 10, 16, 21, 55, 50, 617000), 'OMA', 'Dental Floss', 18, 1.99, datetime.date(2021, 7, 2))>\n",
      "<Row(datetime.datetime(2023, 10, 16, 21, 55, 50, 617000), 'LNK', 'Toothbrush', 20, 3.99, datetime.date(2021, 7, 3))>\n",
      "<Row(datetime.datetime(2023, 10, 16, 21, 55, 50, 648000), 'LNK', 'Dental Floss', 15, 1.99, datetime.date(2021, 7, 3))>\n",
      "<Row(datetime.datetime(2023, 10, 16, 21, 55, 50, 648000), 'LNK', 'Toothpaste', 11, 4.99, datetime.date(2021, 7, 3))>\n",
      "<Row(datetime.datetime(2023, 10, 16, 21, 55, 50, 679000), 'OMA', 'Toothbrush', 31, 3.99, datetime.date(2021, 7, 3))>\n",
      "<Row(datetime.datetime(2023, 10, 16, 21, 55, 50, 679000), 'OMA', 'Toothpaste', 10, 4.99, datetime.date(2021, 7, 3))>\n"
     ]
    }
   ],
   "source": [
    "with kafka_stream_tbl.execute().collect() as results:\n",
    "    for result in results:\n",
    "        print(result)"
   ]
  },
  {
   "cell_type": "code",
   "execution_count": null,
   "id": "182334f5-fd8b-4ede-8653-be515e7648b0",
   "metadata": {},
   "outputs": [],
   "source": []
  }
 ],
 "metadata": {
  "kernelspec": {
   "display_name": "Python 3 (ipykernel)",
   "language": "python",
   "name": "python3"
  },
  "language_info": {
   "codemirror_mode": {
    "name": "ipython",
    "version": 3
   },
   "file_extension": ".py",
   "mimetype": "text/x-python",
   "name": "python",
   "nbconvert_exporter": "python",
   "pygments_lexer": "ipython3",
   "version": "3.8.18"
  }
 },
 "nbformat": 4,
 "nbformat_minor": 5
}
