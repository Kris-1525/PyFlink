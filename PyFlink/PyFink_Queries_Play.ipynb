{
 "cells": [
  {
   "cell_type": "code",
   "execution_count": 1,
   "id": "2b45fab3-6d4c-4dec-a4cd-0ec421bbde09",
   "metadata": {
    "tags": []
   },
   "outputs": [],
   "source": [
    "from pyflink.table import TableDescriptor, TableEnvironment, StreamTableEnvironment, EnvironmentSettings, Schema, DataTypes, WriteMode"
   ]
  },
  {
   "cell_type": "code",
   "execution_count": 2,
   "id": "0d696545-ce32-4663-a80b-ba6c93eee303",
   "metadata": {
    "tags": []
   },
   "outputs": [],
   "source": [
    "from pyflink.table import CsvTableSink"
   ]
  },
  {
   "cell_type": "code",
   "execution_count": 3,
   "id": "1c6f2968-929d-4e09-babf-6581cfc9cbc3",
   "metadata": {
    "tags": []
   },
   "outputs": [],
   "source": [
    "from pyflink.table.expressions import col as col_fk"
   ]
  },
  {
   "cell_type": "code",
   "execution_count": 4,
   "id": "6bbfeec9-4c33-4004-9dce-be9d26c4a4e2",
   "metadata": {
    "tags": []
   },
   "outputs": [],
   "source": [
    "from pyflink.datastream import StreamExecutionEnvironment"
   ]
  },
  {
   "cell_type": "code",
   "execution_count": 5,
   "id": "544ff791-6ba5-43de-9a5b-b8f3f11d7dca",
   "metadata": {
    "tags": []
   },
   "outputs": [],
   "source": [
    "stream_env = StreamExecutionEnvironment.get_execution_environment()"
   ]
  },
  {
   "cell_type": "code",
   "execution_count": 6,
   "id": "04adfe87-a484-4ae0-bc10-3b66ae1a64df",
   "metadata": {
    "tags": []
   },
   "outputs": [],
   "source": [
    "env_settings = EnvironmentSettings.new_instance()\\\n",
    "                                .in_streaming_mode()\\\n",
    "                                .build()"
   ]
  },
  {
   "cell_type": "code",
   "execution_count": 7,
   "id": "85322372-77ac-4b91-b75c-df7a2dab1f0e",
   "metadata": {
    "tags": []
   },
   "outputs": [],
   "source": [
    "stream_tbl_env = StreamTableEnvironment.create(stream_execution_environment=stream_env, environment_settings=env_settings)"
   ]
  },
  {
   "cell_type": "code",
   "execution_count": 8,
   "id": "e17fb591-f888-403e-9253-133485c928d0",
   "metadata": {
    "tags": []
   },
   "outputs": [],
   "source": [
    "# stream_tbl_env.get_config().get_configuration().set_string(\"parallelism.default\", \"1\")"
   ]
  },
  {
   "cell_type": "code",
   "execution_count": 9,
   "id": "c40c4f83-a1ba-48b3-a385-90541590dabe",
   "metadata": {
    "tags": []
   },
   "outputs": [],
   "source": [
    "# stream_env.set_parallelism(1)"
   ]
  },
  {
   "cell_type": "code",
   "execution_count": 10,
   "id": "49519a97-96ef-49d3-a78f-0e28f3eb1540",
   "metadata": {
    "tags": []
   },
   "outputs": [],
   "source": [
    "stream_tbl_sch_source = Schema.new_builder()\\\n",
    "                            .column_by_metadata('source_date', DataTypes.TIMESTAMP(),'timestamp')\\\n",
    "                            .column('seller_id', DataTypes.STRING())\\\n",
    "                            .column('product', DataTypes.STRING())\\\n",
    "                            .column('quantity', DataTypes.INT())\\\n",
    "                            .column('product_price', DataTypes.DOUBLE())\\\n",
    "                            .column('sales_date', DataTypes.DATE())\\\n",
    "                            .build()"
   ]
  },
  {
   "cell_type": "code",
   "execution_count": 11,
   "id": "4faf9e52-c300-46f2-a939-8df1d18cfc80",
   "metadata": {
    "tags": []
   },
   "outputs": [],
   "source": [
    "stream_tbl_dis_source = TableDescriptor.for_connector('kafka')\\\n",
    "                                    .schema(stream_tbl_sch_source)\\\n",
    "                                    .option('topic','productsales')\\\n",
    "                                    .option('properties.group.id','source-demo-1')\\\n",
    "                                    .option('properties.bootstrap.servers','localhost:9092')\\\n",
    "                                    .option('scan.startup.mode','earliest-offset')\\\n",
    "                                    .format('json')\\\n",
    "                                    .option('json.ignore-parse-errors','true')\\\n",
    "                                    .build()"
   ]
  },
  {
   "cell_type": "code",
   "execution_count": 12,
   "id": "5294718d-f72f-4aff-8e2e-e0b967780b2b",
   "metadata": {
    "tags": []
   },
   "outputs": [],
   "source": [
    "stream_tbl_env.create_table('kafka_stream_tbl_source',stream_tbl_dis_source)"
   ]
  },
  {
   "cell_type": "code",
   "execution_count": 13,
   "id": "97fd3895-43b9-4846-8164-0297e41f15fc",
   "metadata": {
    "tags": []
   },
   "outputs": [],
   "source": [
    "kafka_stream_tbl_source = stream_tbl_env.scan('kafka_stream_tbl_source')"
   ]
  },
  {
   "cell_type": "code",
   "execution_count": 14,
   "id": "3aba8739-c1ad-4e00-9844-0ccc32024c59",
   "metadata": {
    "tags": []
   },
   "outputs": [],
   "source": [
    "kafka_stream_tbl_source =  kafka_stream_tbl_source.select(col_fk('*'))\\\n",
    "                                                .group_by(col_fk('source_date'), col_fk('seller_id'), col_fk('product'))\\\n",
    "                                                .select(col_fk('source_date'),\n",
    "                                                        col_fk('seller_id'),\n",
    "                                                        col_fk('product'), \n",
    "                                                        col_fk('quantity').avg.alias('avg_quantity'), \n",
    "                                                        col_fk('product_price').avg.alias('avg_product_price'))"
   ]
  },
  {
   "cell_type": "code",
   "execution_count": 15,
   "id": "6a5de5e3-6754-46ad-b251-daa9a254930e",
   "metadata": {
    "tags": []
   },
   "outputs": [],
   "source": [
    "# kafka_stream_tbl_source =  kafka_stream_tbl_source.select(col_fk('*'))\\\n",
    "#                                                 .group_by(col_fk('seller_id'), col_fk('product'))\\\n",
    "#                                                 .select(col_fk('seller_id'),\n",
    "#                                                         col_fk('product'), \n",
    "#                                                         col_fk('quantity').avg.alias('avg_quantity'), \n",
    "#                                                         col_fk('product_price').avg.alias('avg_product_price'))"
   ]
  },
  {
   "cell_type": "code",
   "execution_count": 16,
   "id": "e7f1d08d-284a-45d6-a8c6-b1cdb08d4450",
   "metadata": {
    "tags": []
   },
   "outputs": [],
   "source": [
    "kafka_stream_ds_source = stream_tbl_env.to_changelog_stream(kafka_stream_tbl_source)"
   ]
  },
  {
   "cell_type": "code",
   "execution_count": 17,
   "id": "9532bf03-5acf-4c06-9bce-fb2e60693296",
   "metadata": {
    "tags": []
   },
   "outputs": [],
   "source": [
    "kafka_stream_tbl_source = stream_tbl_env.from_data_stream(kafka_stream_ds_source)"
   ]
  },
  {
   "cell_type": "code",
   "execution_count": 18,
   "id": "7aa4a6fe-6231-4acf-8cbf-5e4f1fe1d35a",
   "metadata": {
    "tags": []
   },
   "outputs": [],
   "source": [
    "csv_stream_tbl_sink = CsvTableSink(field_names=kafka_stream_tbl_source.get_schema().get_field_names(), \n",
    "                                   field_types=kafka_stream_tbl_source.get_schema().get_field_data_types(), \n",
    "                                   path='./CSV/product_sale.csv',\n",
    "                                   num_files=1,\n",
    "                                   write_mode=WriteMode.OVERWRITE)"
   ]
  },
  {
   "cell_type": "code",
   "execution_count": 19,
   "id": "0a42c91c-4f76-4ef6-8e7d-a6e102a68b47",
   "metadata": {
    "tags": []
   },
   "outputs": [],
   "source": [
    "stream_tbl_env.register_table_sink('csv_stream_tbl_sink',csv_stream_tbl_sink)"
   ]
  },
  {
   "cell_type": "code",
   "execution_count": 20,
   "id": "43233678-5439-4a3f-8cd3-3fbfe1c1a38e",
   "metadata": {
    "tags": []
   },
   "outputs": [
    {
     "data": {
      "text/plain": [
       "<pyflink.table.table_result.TableResult at 0x1c8194424f0>"
      ]
     },
     "execution_count": 20,
     "metadata": {},
     "output_type": "execute_result"
    }
   ],
   "source": [
    "kafka_stream_tbl_source.execute_insert('csv_stream_tbl_sink')"
   ]
  },
  {
   "cell_type": "code",
   "execution_count": null,
   "id": "ddea9773-0094-4b6d-8587-ade1634d208f",
   "metadata": {},
   "outputs": [],
   "source": []
  }
 ],
 "metadata": {
  "kernelspec": {
   "display_name": "Python 3 (ipykernel)",
   "language": "python",
   "name": "python3"
  },
  "language_info": {
   "codemirror_mode": {
    "name": "ipython",
    "version": 3
   },
   "file_extension": ".py",
   "mimetype": "text/x-python",
   "name": "python",
   "nbconvert_exporter": "python",
   "pygments_lexer": "ipython3",
   "version": "3.8.18"
  }
 },
 "nbformat": 4,
 "nbformat_minor": 5
}
