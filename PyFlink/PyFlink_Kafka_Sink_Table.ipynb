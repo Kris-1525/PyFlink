{
 "cells": [
  {
   "cell_type": "code",
   "execution_count": 1,
   "id": "779d292b-5341-4ade-ad5c-7d1e0e1c9a73",
   "metadata": {
    "tags": []
   },
   "outputs": [],
   "source": [
    "from pyflink.table import TableEnvironment, EnvironmentSettings, DataTypes, StreamTableEnvironment, TableDescriptor, FormatDescriptor"
   ]
  },
  {
   "cell_type": "code",
   "execution_count": 2,
   "id": "11ccf227-1a66-4e08-bbbe-ad72c1a50016",
   "metadata": {
    "tags": []
   },
   "outputs": [],
   "source": [
    "from pyflink.table.schema import Schema"
   ]
  },
  {
   "cell_type": "code",
   "execution_count": 3,
   "id": "23e32569-2869-4325-8701-fb8d83ae3cca",
   "metadata": {
    "tags": []
   },
   "outputs": [],
   "source": [
    "from pyflink.common.typeinfo import RowTypeInfo"
   ]
  },
  {
   "cell_type": "code",
   "execution_count": 4,
   "id": "7d74c62a-f0a3-48b1-a6ff-5e1b0b825f59",
   "metadata": {
    "tags": []
   },
   "outputs": [],
   "source": [
    "from pyflink.datastream.connectors.kafka import KafkaSource, KafkaOffsetsInitializer, KafkaSink, DeliveryGuarantee, KafkaRecordSerializationSchema"
   ]
  },
  {
   "cell_type": "code",
   "execution_count": 5,
   "id": "b3d37fa0-97d4-47a3-9c2d-0244a6b4c964",
   "metadata": {
    "tags": []
   },
   "outputs": [],
   "source": [
    "from pyflink.common.serialization import SimpleStringSchema"
   ]
  },
  {
   "cell_type": "code",
   "execution_count": 6,
   "id": "f30702ff-2bfc-4bbe-9be8-bc01c27ae6d2",
   "metadata": {
    "tags": []
   },
   "outputs": [],
   "source": [
    "from pyflink.datastream.formats.json import JsonRowDeserializationSchema, JsonRowSerializationSchema"
   ]
  },
  {
   "cell_type": "code",
   "execution_count": 7,
   "id": "d09fab3f-d8a3-4c9f-b476-1839d0122242",
   "metadata": {
    "tags": []
   },
   "outputs": [],
   "source": [
    "from pyflink.datastream import StreamExecutionEnvironment"
   ]
  },
  {
   "cell_type": "code",
   "execution_count": 8,
   "id": "50da28a2-62ff-4955-ad83-a30ec1b2b1f9",
   "metadata": {
    "tags": []
   },
   "outputs": [],
   "source": [
    "from pyflink.table.expressions import col as col_sp"
   ]
  },
  {
   "cell_type": "code",
   "execution_count": 9,
   "id": "0d46231e-02de-4774-816a-012b09fa5427",
   "metadata": {
    "tags": []
   },
   "outputs": [],
   "source": [
    "from pyflink.common import Types"
   ]
  },
  {
   "cell_type": "code",
   "execution_count": 10,
   "id": "07dca7fd-00b8-4b0e-9e9d-eaef2eebf813",
   "metadata": {
    "tags": []
   },
   "outputs": [],
   "source": [
    "from pyflink.common.watermark_strategy import WatermarkStrategy"
   ]
  },
  {
   "cell_type": "code",
   "execution_count": 11,
   "id": "1394bc93-e982-40ee-9a63-fcef2bc89990",
   "metadata": {
    "tags": []
   },
   "outputs": [],
   "source": [
    "from pyflink.common.configuration import Configuration"
   ]
  },
  {
   "cell_type": "code",
   "execution_count": 12,
   "id": "ccba46c4-c063-4180-ad65-5621a15c00ef",
   "metadata": {
    "tags": []
   },
   "outputs": [],
   "source": [
    "from pyflink.common.restart_strategy import RestartStrategies"
   ]
  },
  {
   "cell_type": "code",
   "execution_count": 13,
   "id": "acce5a76-65dd-40c1-8ac3-bb4747a6cba1",
   "metadata": {
    "tags": []
   },
   "outputs": [],
   "source": [
    "from pyflink.table import CsvTableSink"
   ]
  },
  {
   "cell_type": "code",
   "execution_count": 14,
   "id": "d5cb52d3-60aa-4ab5-8f47-4654da4c5f0f",
   "metadata": {
    "tags": []
   },
   "outputs": [],
   "source": [
    "stream_env = StreamExecutionEnvironment.get_execution_environment()"
   ]
  },
  {
   "cell_type": "code",
   "execution_count": 15,
   "id": "9c126237-44c9-4dba-aab7-ca3798f754c8",
   "metadata": {
    "tags": []
   },
   "outputs": [],
   "source": [
    "stream_settings = EnvironmentSettings.new_instance()\\\n",
    "                                    .in_streaming_mode()\\\n",
    "                                    .build()"
   ]
  },
  {
   "cell_type": "code",
   "execution_count": 16,
   "id": "8c3139bb-634f-4868-9f73-4d0c0d4a1d44",
   "metadata": {
    "tags": []
   },
   "outputs": [],
   "source": [
    "stream_tbl_env = StreamTableEnvironment.create(stream_execution_environment=stream_env,environment_settings=stream_settings)"
   ]
  },
  {
   "cell_type": "code",
   "execution_count": 17,
   "id": "cf0f072f-1042-49ce-ad83-b227b5f0203c",
   "metadata": {
    "tags": []
   },
   "outputs": [
    {
     "data": {
      "text/plain": [
       "<pyflink.common.configuration.Configuration at 0x1fea9db7c10>"
      ]
     },
     "execution_count": 17,
     "metadata": {},
     "output_type": "execute_result"
    }
   ],
   "source": [
    "stream_tbl_env.get_config().get_configuration().set_string(\"parallelism.default\", \"1\")"
   ]
  },
  {
   "cell_type": "code",
   "execution_count": 18,
   "id": "817c3bea-a493-4257-a511-cd9845b746cb",
   "metadata": {
    "tags": []
   },
   "outputs": [
    {
     "data": {
      "text/plain": [
       "<pyflink.datastream.stream_execution_environment.StreamExecutionEnvironment at 0x1feaa1c0c40>"
      ]
     },
     "execution_count": 18,
     "metadata": {},
     "output_type": "execute_result"
    }
   ],
   "source": [
    "stream_env.set_parallelism(1)"
   ]
  },
  {
   "cell_type": "code",
   "execution_count": 19,
   "id": "064ecd1e-edde-4576-915c-156f66c31145",
   "metadata": {},
   "outputs": [],
   "source": [
    "# Put Jars in: D:\\Users\\kritagya\\anaconda3\\envs\\PyFlink\\Lib\\site-packages\\pyflink"
   ]
  },
  {
   "cell_type": "code",
   "execution_count": 20,
   "id": "5701ff80-f81d-488e-ade1-528ec64ff158",
   "metadata": {
    "tags": []
   },
   "outputs": [],
   "source": [
    "# stream_tbl_env.get_config().set('pipeline.jars','file:///C:/Users/krita/Udemy/PyFlink/flink-sql-connector-kafka-1.17.1.jar')"
   ]
  },
  {
   "cell_type": "code",
   "execution_count": 21,
   "id": "964ea922-c1ca-4758-bb7d-6c62b92bbbca",
   "metadata": {
    "tags": []
   },
   "outputs": [],
   "source": [
    "# stream_env.add_jars('pipeline.jars','file:///C:/Users/krita/Udemy/PyFlink/flink-sql-connector-kafka-1.17.1.jar')"
   ]
  },
  {
   "cell_type": "code",
   "execution_count": 22,
   "id": "38f9ace4-3614-4fd8-a0bd-525e40a6c590",
   "metadata": {
    "tags": []
   },
   "outputs": [],
   "source": [
    "kafka_tbl_sch_source = Schema.new_builder()\\\n",
    "                            .column('seller_id', data_type=DataTypes.STRING())\\\n",
    "                            .column('product',data_type=DataTypes.STRING())\\\n",
    "                            .column('quantity',data_type=DataTypes.INT())\\\n",
    "                            .column('product_price',data_type=DataTypes.DOUBLE())\\\n",
    "                            .column('sales_date',data_type=DataTypes.DATE())\\\n",
    "                            .build()"
   ]
  },
  {
   "cell_type": "code",
   "execution_count": 23,
   "id": "1481265a-d12d-4d3a-aa5a-01104b4b4c70",
   "metadata": {
    "tags": []
   },
   "outputs": [],
   "source": [
    "kafka_tbl_dis_source = TableDescriptor.for_connector(connector='kafka')\\\n",
    "                                    .schema(schema=kafka_tbl_sch_source)\\\n",
    "                                    .option('topic','productsales')\\\n",
    "                                    .option('properties.group.id','source-demo-1')\\\n",
    "                                    .option('properties.bootstrap.servers','localhost:9092')\\\n",
    "                                    .option('scan.startup.mode','earliest-offset')\\\n",
    "                                    .format('json')\\\n",
    "                                    .option('json.ignore-parse-errors','true')\\\n",
    "                                    .build()"
   ]
  },
  {
   "cell_type": "code",
   "execution_count": 24,
   "id": "73f1cafa-5e3f-46c6-807d-9855e41f419a",
   "metadata": {
    "tags": []
   },
   "outputs": [],
   "source": [
    "stream_tbl_env.create_table('kafka_source_table', kafka_tbl_dis_source)"
   ]
  },
  {
   "cell_type": "code",
   "execution_count": 25,
   "id": "f06cafb8-1fe5-477d-b6cc-57d8a5167f94",
   "metadata": {
    "tags": []
   },
   "outputs": [],
   "source": [
    "kafka_stream_tbl = stream_tbl_env.scan('kafka_source_table')"
   ]
  },
  {
   "cell_type": "code",
   "execution_count": 26,
   "id": "f3734fbe-f287-40d0-812a-8f5a39abace8",
   "metadata": {
    "tags": []
   },
   "outputs": [],
   "source": [
    "kafka_tbl_sch_sink = kafka_tbl_sch_source"
   ]
  },
  {
   "cell_type": "code",
   "execution_count": 29,
   "id": "d200006c-938c-4222-8f4f-947aec58b613",
   "metadata": {
    "tags": []
   },
   "outputs": [],
   "source": [
    "kafka_tbl_dis_sink = TableDescriptor.for_connector('kafka')\\\n",
    "                                    .schema(schema=kafka_tbl_sch_sink)\\\n",
    "                                    .option('topic','productsales2')\\\n",
    "                                    .option('properties.group.id','source-demo-1')\\\n",
    "                                    .option('properties.bootstrap.servers','localhost:9092')\\\n",
    "                                    .option('scan.startup.mode','earliest-offset')\\\n",
    "                                    .format('json')\\\n",
    "                                    .option('json.ignore-parse-errors','true')\\\n",
    "                                    .build()"
   ]
  },
  {
   "cell_type": "code",
   "execution_count": 30,
   "id": "182334f5-fd8b-4ede-8653-be515e7648b0",
   "metadata": {},
   "outputs": [],
   "source": [
    "stream_tbl_env.create_table('kafka_sink_table',kafka_tbl_dis_sink)"
   ]
  },
  {
   "cell_type": "code",
   "execution_count": 32,
   "id": "d2cfc185-3cf1-41f8-9a91-7739f434d824",
   "metadata": {
    "tags": []
   },
   "outputs": [
    {
     "data": {
      "text/plain": [
       "<pyflink.table.table_result.TableResult at 0x1fecf8c7c70>"
      ]
     },
     "execution_count": 32,
     "metadata": {},
     "output_type": "execute_result"
    }
   ],
   "source": [
    "kafka_stream_tbl.execute_insert('kafka_sink_table')"
   ]
  },
  {
   "cell_type": "code",
   "execution_count": null,
   "id": "56c3fb27-cf87-48c1-a30e-5faab977ae31",
   "metadata": {},
   "outputs": [],
   "source": []
  }
 ],
 "metadata": {
  "kernelspec": {
   "display_name": "Python 3 (ipykernel)",
   "language": "python",
   "name": "python3"
  },
  "language_info": {
   "codemirror_mode": {
    "name": "ipython",
    "version": 3
   },
   "file_extension": ".py",
   "mimetype": "text/x-python",
   "name": "python",
   "nbconvert_exporter": "python",
   "pygments_lexer": "ipython3",
   "version": "3.8.18"
  }
 },
 "nbformat": 4,
 "nbformat_minor": 5
}
