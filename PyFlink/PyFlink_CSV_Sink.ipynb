{
 "cells": [
  {
   "cell_type": "code",
   "execution_count": null,
   "id": "2716d1f9-583c-45ca-a632-f575366b5203",
   "metadata": {},
   "outputs": [],
   "source": [
    "# Remember that CSV SINK is Loaded from Table module therefore it can use register_table_sink \n",
    "# however KafkaSource is loaded from datastream module therefore it cannot use register_table_source"
   ]
  },
  {
   "cell_type": "code",
   "execution_count": 1,
   "id": "779d292b-5341-4ade-ad5c-7d1e0e1c9a73",
   "metadata": {
    "tags": []
   },
   "outputs": [],
   "source": [
    "from pyflink.table import TableEnvironment, EnvironmentSettings, DataTypes, StreamTableEnvironment"
   ]
  },
  {
   "cell_type": "code",
   "execution_count": 2,
   "id": "7d74c62a-f0a3-48b1-a6ff-5e1b0b825f59",
   "metadata": {
    "tags": []
   },
   "outputs": [],
   "source": [
    "from pyflink.datastream.connectors.kafka import KafkaSource, KafkaOffsetsInitializer"
   ]
  },
  {
   "cell_type": "code",
   "execution_count": 3,
   "id": "d09360e9-365d-414a-8a0e-f8152802524a",
   "metadata": {
    "tags": []
   },
   "outputs": [],
   "source": [
    "from pyflink.datastream.connectors import KafkaSource"
   ]
  },
  {
   "cell_type": "code",
   "execution_count": 4,
   "id": "b3d37fa0-97d4-47a3-9c2d-0244a6b4c964",
   "metadata": {
    "tags": []
   },
   "outputs": [],
   "source": [
    "from pyflink.common.serialization import SimpleStringSchema"
   ]
  },
  {
   "cell_type": "code",
   "execution_count": 5,
   "id": "f30702ff-2bfc-4bbe-9be8-bc01c27ae6d2",
   "metadata": {
    "tags": []
   },
   "outputs": [],
   "source": [
    "from pyflink.datastream.formats.json import JsonRowDeserializationSchema"
   ]
  },
  {
   "cell_type": "code",
   "execution_count": 6,
   "id": "d09fab3f-d8a3-4c9f-b476-1839d0122242",
   "metadata": {
    "tags": []
   },
   "outputs": [],
   "source": [
    "from pyflink.datastream import StreamExecutionEnvironment"
   ]
  },
  {
   "cell_type": "code",
   "execution_count": 7,
   "id": "0d46231e-02de-4774-816a-012b09fa5427",
   "metadata": {
    "tags": []
   },
   "outputs": [],
   "source": [
    "from pyflink.common import Types"
   ]
  },
  {
   "cell_type": "code",
   "execution_count": 8,
   "id": "07dca7fd-00b8-4b0e-9e9d-eaef2eebf813",
   "metadata": {
    "tags": []
   },
   "outputs": [],
   "source": [
    "from pyflink.common.watermark_strategy import WatermarkStrategy"
   ]
  },
  {
   "cell_type": "code",
   "execution_count": 9,
   "id": "1394bc93-e982-40ee-9a63-fcef2bc89990",
   "metadata": {
    "tags": []
   },
   "outputs": [],
   "source": [
    "from pyflink.common.configuration import Configuration"
   ]
  },
  {
   "cell_type": "code",
   "execution_count": 10,
   "id": "ccba46c4-c063-4180-ad65-5621a15c00ef",
   "metadata": {
    "tags": []
   },
   "outputs": [],
   "source": [
    "from pyflink.common.restart_strategy import RestartStrategies"
   ]
  },
  {
   "cell_type": "code",
   "execution_count": 11,
   "id": "acce5a76-65dd-40c1-8ac3-bb4747a6cba1",
   "metadata": {
    "tags": []
   },
   "outputs": [],
   "source": [
    "from pyflink.table import CsvTableSink"
   ]
  },
  {
   "cell_type": "code",
   "execution_count": 12,
   "id": "d5cb52d3-60aa-4ab5-8f47-4654da4c5f0f",
   "metadata": {
    "tags": []
   },
   "outputs": [],
   "source": [
    "stream_env = StreamExecutionEnvironment.get_execution_environment()"
   ]
  },
  {
   "cell_type": "code",
   "execution_count": 13,
   "id": "9c126237-44c9-4dba-aab7-ca3798f754c8",
   "metadata": {
    "tags": []
   },
   "outputs": [],
   "source": [
    "stream_settings = EnvironmentSettings.new_instance()\\\n",
    "                                    .in_streaming_mode()\\\n",
    "                                    .build()"
   ]
  },
  {
   "cell_type": "code",
   "execution_count": 14,
   "id": "8c3139bb-634f-4868-9f73-4d0c0d4a1d44",
   "metadata": {
    "tags": []
   },
   "outputs": [],
   "source": [
    "stream_tbl_env = StreamTableEnvironment.create(stream_execution_environment=stream_env,environment_settings=stream_settings)"
   ]
  },
  {
   "cell_type": "code",
   "execution_count": 15,
   "id": "cf0f072f-1042-49ce-ad83-b227b5f0203c",
   "metadata": {
    "tags": []
   },
   "outputs": [
    {
     "data": {
      "text/plain": [
       "<pyflink.common.configuration.Configuration at 0x22c5e86f370>"
      ]
     },
     "execution_count": 15,
     "metadata": {},
     "output_type": "execute_result"
    }
   ],
   "source": [
    "stream_tbl_env.get_config().get_configuration().set_string(\"parallelism.default\", \"1\")"
   ]
  },
  {
   "cell_type": "code",
   "execution_count": 16,
   "id": "064ecd1e-edde-4576-915c-156f66c31145",
   "metadata": {},
   "outputs": [],
   "source": [
    "# Put Jars in: D:\\Users\\kritagya\\anaconda3\\envs\\PyFlink\\Lib\\site-packages\\pyflink"
   ]
  },
  {
   "cell_type": "code",
   "execution_count": 17,
   "id": "5701ff80-f81d-488e-ade1-528ec64ff158",
   "metadata": {
    "tags": []
   },
   "outputs": [],
   "source": [
    "# stream_tbl_env.get_config().set('pipeline.jars','file:///C:/Users/krita/Udemy/PyFlink/flink-sql-connector-kafka-1.17.1.jar')"
   ]
  },
  {
   "cell_type": "code",
   "execution_count": 18,
   "id": "964ea922-c1ca-4758-bb7d-6c62b92bbbca",
   "metadata": {
    "tags": []
   },
   "outputs": [],
   "source": [
    "# stream_env.add_jars('pipeline.jars','file:///C:/Users/krita/Udemy/PyFlink/flink-sql-connector-kafka-1.17.1.jar')"
   ]
  },
  {
   "cell_type": "code",
   "execution_count": 19,
   "id": "28431704-4dff-4cc9-b81c-413de6db99d4",
   "metadata": {
    "tags": []
   },
   "outputs": [],
   "source": [
    "json_types = [Types.STRING(),Types.STRING(),Types.INT(),Types.DOUBLE(),Types.SQL_DATE()]"
   ]
  },
  {
   "cell_type": "code",
   "execution_count": 20,
   "id": "b85b22de-8d77-4d73-9a9a-a5fb82162be5",
   "metadata": {
    "tags": []
   },
   "outputs": [],
   "source": [
    "json_names = ['seller_id','product','quantity','product_price','sales_date']"
   ]
  },
  {
   "cell_type": "code",
   "execution_count": 21,
   "id": "bc0c516b-f7d7-4705-8286-bd17a1d0d9c2",
   "metadata": {
    "tags": []
   },
   "outputs": [],
   "source": [
    "json_schema = Types.ROW_NAMED(field_names=json_names,field_types=json_types)"
   ]
  },
  {
   "cell_type": "code",
   "execution_count": 22,
   "id": "b98f39da-74e4-457a-8391-21cf64aa2531",
   "metadata": {
    "tags": []
   },
   "outputs": [],
   "source": [
    "json_deserialization_schema = JsonRowDeserializationSchema.Builder()\\\n",
    "                                                        .type_info(type_info=json_schema)\\\n",
    "                                                        .ignore_parse_errors()\\\n",
    "                                                        .build()"
   ]
  },
  {
   "cell_type": "code",
   "execution_count": 23,
   "id": "52ccb0a6-bbd2-4b15-9de6-c59cb9672530",
   "metadata": {
    "tags": []
   },
   "outputs": [],
   "source": [
    "kafka_source = KafkaSource.builder() \\\n",
    "    .set_bootstrap_servers('localhost:9092') \\\n",
    "    .set_topics(\"productsales\") \\\n",
    "    .set_group_id(\"source-demo\") \\\n",
    "    .set_starting_offsets(KafkaOffsetsInitializer.earliest()) \\\n",
    "    .set_value_only_deserializer(deserialization_schema=json_deserialization_schema) \\\n",
    "    .build()"
   ]
  },
  {
   "cell_type": "code",
   "execution_count": 24,
   "id": "38fb9ca2-6027-4569-922f-c2507ccd6392",
   "metadata": {
    "tags": []
   },
   "outputs": [],
   "source": [
    "kafka_stream_tbl = stream_tbl_env.from_data_stream(data_stream=stream_env.from_source(source=kafka_source,watermark_strategy=WatermarkStrategy.no_watermarks(),source_name='kafka_tbl_source'))"
   ]
  },
  {
   "cell_type": "code",
   "execution_count": 25,
   "id": "f9895f3e-067b-4e10-9567-41063dbe2448",
   "metadata": {},
   "outputs": [],
   "source": [
    "csv_types = [DataTypes.STRING(),DataTypes.STRING(),DataTypes.INT(),DataTypes.DOUBLE(),DataTypes.DATE()]"
   ]
  },
  {
   "cell_type": "code",
   "execution_count": 26,
   "id": "74fc1d83-6acd-4bbb-8237-a2b848e41d2e",
   "metadata": {
    "tags": []
   },
   "outputs": [],
   "source": [
    "csv_names = ['seller_id','product','quantity','product_price','sales_date']"
   ]
  },
  {
   "cell_type": "code",
   "execution_count": 28,
   "id": "6ce6f6d2-90ce-4f0f-a093-21098fe693bc",
   "metadata": {
    "tags": []
   },
   "outputs": [],
   "source": [
    "csv_sink = CsvTableSink(field_names=csv_names,field_types=csv_types,path='./kafka_local_sales.csv',num_files=1)"
   ]
  },
  {
   "cell_type": "code",
   "execution_count": 29,
   "id": "20259c36-9963-453e-9ed4-b455b90236bf",
   "metadata": {
    "tags": []
   },
   "outputs": [],
   "source": [
    "stream_tbl_env.register_table_sink(name='kafka_tbl_sink',table_sink=csv_sink)"
   ]
  },
  {
   "cell_type": "code",
   "execution_count": 30,
   "id": "b286258f-49d4-4254-98cc-dc97ebac1ccc",
   "metadata": {
    "tags": []
   },
   "outputs": [
    {
     "data": {
      "text/plain": [
       "<pyflink.table.table_result.TableResult at 0x22c5ebae190>"
      ]
     },
     "execution_count": 30,
     "metadata": {},
     "output_type": "execute_result"
    }
   ],
   "source": [
    "kafka_stream_tbl.execute_insert(table_path_or_descriptor='kafka_tbl_sink')"
   ]
  },
  {
   "cell_type": "code",
   "execution_count": null,
   "id": "deeeabb2-1e6f-475a-9cff-0fad5d7347a7",
   "metadata": {},
   "outputs": [],
   "source": [
    "# Remember as the CSV is in stream mode therefore any on coming data from source will be directly stored in CSV"
   ]
  }
 ],
 "metadata": {
  "kernelspec": {
   "display_name": "Python 3 (ipykernel)",
   "language": "python",
   "name": "python3"
  },
  "language_info": {
   "codemirror_mode": {
    "name": "ipython",
    "version": 3
   },
   "file_extension": ".py",
   "mimetype": "text/x-python",
   "name": "python",
   "nbconvert_exporter": "python",
   "pygments_lexer": "ipython3",
   "version": "3.8.18"
  }
 },
 "nbformat": 4,
 "nbformat_minor": 5
}
