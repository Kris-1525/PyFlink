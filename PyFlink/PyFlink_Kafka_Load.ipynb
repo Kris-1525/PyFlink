{
 "cells": [
  {
   "cell_type": "code",
   "execution_count": 1,
   "id": "779d292b-5341-4ade-ad5c-7d1e0e1c9a73",
   "metadata": {
    "tags": []
   },
   "outputs": [],
   "source": [
    "from pyflink.table import TableEnvironment, EnvironmentSettings, DataTypes, StreamTableEnvironment"
   ]
  },
  {
   "cell_type": "code",
   "execution_count": 2,
   "id": "7d74c62a-f0a3-48b1-a6ff-5e1b0b825f59",
   "metadata": {
    "tags": []
   },
   "outputs": [],
   "source": [
    "from pyflink.datastream.connectors.kafka import KafkaSource, KafkaOffsetsInitializer"
   ]
  },
  {
   "cell_type": "code",
   "execution_count": 3,
   "id": "d09360e9-365d-414a-8a0e-f8152802524a",
   "metadata": {
    "tags": []
   },
   "outputs": [],
   "source": [
    "from pyflink.datastream.connectors import KafkaSource"
   ]
  },
  {
   "cell_type": "code",
   "execution_count": 4,
   "id": "b3d37fa0-97d4-47a3-9c2d-0244a6b4c964",
   "metadata": {
    "tags": []
   },
   "outputs": [],
   "source": [
    "from pyflink.common.serialization import SimpleStringSchema"
   ]
  },
  {
   "cell_type": "code",
   "execution_count": 5,
   "id": "f30702ff-2bfc-4bbe-9be8-bc01c27ae6d2",
   "metadata": {
    "tags": []
   },
   "outputs": [],
   "source": [
    "from pyflink.datastream.formats.json import JsonRowDeserializationSchema"
   ]
  },
  {
   "cell_type": "code",
   "execution_count": 6,
   "id": "d09fab3f-d8a3-4c9f-b476-1839d0122242",
   "metadata": {
    "tags": []
   },
   "outputs": [],
   "source": [
    "from pyflink.datastream import StreamExecutionEnvironment"
   ]
  },
  {
   "cell_type": "code",
   "execution_count": 7,
   "id": "0d46231e-02de-4774-816a-012b09fa5427",
   "metadata": {
    "tags": []
   },
   "outputs": [],
   "source": [
    "from pyflink.common import Types"
   ]
  },
  {
   "cell_type": "code",
   "execution_count": 8,
   "id": "07dca7fd-00b8-4b0e-9e9d-eaef2eebf813",
   "metadata": {
    "tags": []
   },
   "outputs": [],
   "source": [
    "from pyflink.common.watermark_strategy import WatermarkStrategy"
   ]
  },
  {
   "cell_type": "code",
   "execution_count": 9,
   "id": "1394bc93-e982-40ee-9a63-fcef2bc89990",
   "metadata": {
    "tags": []
   },
   "outputs": [],
   "source": [
    "from pyflink.common.configuration import Configuration"
   ]
  },
  {
   "cell_type": "code",
   "execution_count": 10,
   "id": "ccba46c4-c063-4180-ad65-5621a15c00ef",
   "metadata": {
    "tags": []
   },
   "outputs": [],
   "source": [
    "from pyflink.common.restart_strategy import RestartStrategies"
   ]
  },
  {
   "cell_type": "code",
   "execution_count": 11,
   "id": "d5cb52d3-60aa-4ab5-8f47-4654da4c5f0f",
   "metadata": {
    "tags": []
   },
   "outputs": [],
   "source": [
    "stream_env = StreamExecutionEnvironment.get_execution_environment()"
   ]
  },
  {
   "cell_type": "code",
   "execution_count": 12,
   "id": "9c126237-44c9-4dba-aab7-ca3798f754c8",
   "metadata": {
    "tags": []
   },
   "outputs": [],
   "source": [
    "stream_settings = EnvironmentSettings.new_instance()\\\n",
    "                                    .in_streaming_mode()\\\n",
    "                                    .build()"
   ]
  },
  {
   "cell_type": "code",
   "execution_count": 13,
   "id": "8c3139bb-634f-4868-9f73-4d0c0d4a1d44",
   "metadata": {
    "tags": []
   },
   "outputs": [],
   "source": [
    "stream_tbl_env = StreamTableEnvironment.create(stream_execution_environment=stream_env,environment_settings=stream_settings)"
   ]
  },
  {
   "cell_type": "code",
   "execution_count": null,
   "id": "064ecd1e-edde-4576-915c-156f66c31145",
   "metadata": {},
   "outputs": [],
   "source": [
    "# Put Jars in: D:\\Users\\kritagya\\anaconda3\\envs\\PyFlink\\Lib\\site-packages\\pyflink"
   ]
  },
  {
   "cell_type": "code",
   "execution_count": 14,
   "id": "5701ff80-f81d-488e-ade1-528ec64ff158",
   "metadata": {
    "tags": []
   },
   "outputs": [],
   "source": [
    "# stream_tbl_env.get_config().set('pipeline.jars','file:///C:/Users/krita/Udemy/PyFlink/flink-sql-connector-kafka-1.17.1.jar')"
   ]
  },
  {
   "cell_type": "code",
   "execution_count": 15,
   "id": "964ea922-c1ca-4758-bb7d-6c62b92bbbca",
   "metadata": {
    "tags": []
   },
   "outputs": [],
   "source": [
    "# stream_env.add_jars('pipeline.jars','file:///C:/Users/krita/Udemy/PyFlink/flink-sql-connector-kafka-1.17.1.jar')"
   ]
  },
  {
   "cell_type": "code",
   "execution_count": 16,
   "id": "28431704-4dff-4cc9-b81c-413de6db99d4",
   "metadata": {
    "tags": []
   },
   "outputs": [],
   "source": [
    "json_types = [Types.STRING(),Types.STRING(),Types.INT(),Types.DOUBLE(),Types.SQL_DATE()]"
   ]
  },
  {
   "cell_type": "code",
   "execution_count": 17,
   "id": "b85b22de-8d77-4d73-9a9a-a5fb82162be5",
   "metadata": {
    "tags": []
   },
   "outputs": [],
   "source": [
    "json_names = ['seller_id','product','quantity','product_price','sales_date']"
   ]
  },
  {
   "cell_type": "code",
   "execution_count": 18,
   "id": "bc0c516b-f7d7-4705-8286-bd17a1d0d9c2",
   "metadata": {
    "tags": []
   },
   "outputs": [],
   "source": [
    "json_schema = Types.ROW_NAMED(field_names=json_names,field_types=json_types)"
   ]
  },
  {
   "cell_type": "code",
   "execution_count": 19,
   "id": "b98f39da-74e4-457a-8391-21cf64aa2531",
   "metadata": {
    "tags": []
   },
   "outputs": [],
   "source": [
    "json_deserialization_schema = JsonRowDeserializationSchema.Builder()\\\n",
    "                                                        .type_info(type_info=json_schema)\\\n",
    "                                                        .ignore_parse_errors()\\\n",
    "                                                        .build()"
   ]
  },
  {
   "cell_type": "code",
   "execution_count": 20,
   "id": "52ccb0a6-bbd2-4b15-9de6-c59cb9672530",
   "metadata": {
    "tags": []
   },
   "outputs": [],
   "source": [
    "kafka_source = KafkaSource.builder() \\\n",
    "    .set_bootstrap_servers('localhost:9092') \\\n",
    "    .set_topics(\"productsales\") \\\n",
    "    .set_group_id(\"source-demo\") \\\n",
    "    .set_starting_offsets(KafkaOffsetsInitializer.earliest()) \\\n",
    "    .set_value_only_deserializer(deserialization_schema=json_deserialization_schema) \\\n",
    "    .build()"
   ]
  },
  {
   "cell_type": "code",
   "execution_count": 21,
   "id": "38fb9ca2-6027-4569-922f-c2507ccd6392",
   "metadata": {
    "tags": []
   },
   "outputs": [],
   "source": [
    "kafka_stream_tbl = stream_tbl_env.from_data_stream(data_stream=stream_env.from_source(source=kafka_source,watermark_strategy=WatermarkStrategy.no_watermarks(),source_name='kafka_tbl_source'))"
   ]
  },
  {
   "cell_type": "code",
   "execution_count": null,
   "id": "6b8c2da9-1586-42cb-8c9a-a5f0936519c0",
   "metadata": {
    "tags": []
   },
   "outputs": [
    {
     "name": "stdout",
     "output_type": "stream",
     "text": [
      "<Row('LNK', 'Toothbrush', 22, 3.99, datetime.date(2021, 7, 1))>\n",
      "<Row('LNK', 'Dental Floss', 17, 1.99, datetime.date(2021, 7, 1))>\n",
      "<Row('LNK', 'Toothpaste', 8, 4.99, datetime.date(2021, 7, 1))>\n",
      "<Row('OMA', 'Toothbrush', 29, 3.99, datetime.date(2021, 7, 1))>\n",
      "<Row('OMA', 'Toothpaste', 9, 4.99, datetime.date(2021, 7, 1))>\n",
      "<Row('OMA', 'Dental Floss', 23, 1.99, datetime.date(2021, 7, 1))>\n",
      "<Row('LNK', 'Toothbrush', 25, 3.99, datetime.date(2021, 7, 2))>\n",
      "<Row('LNK', 'Dental Floss', 16, 1.99, datetime.date(2021, 7, 2))>\n",
      "<Row('LNK', 'Toothpaste', 9, 4.99, datetime.date(2021, 7, 2))>\n",
      "<Row('OMA', 'Toothbrush', 32, 3.99, datetime.date(2021, 7, 2))>\n",
      "<Row('OMA', 'Toothpaste', 13, 4.99, datetime.date(2021, 7, 2))>\n",
      "<Row('OMA', 'Dental Floss', 18, 1.99, datetime.date(2021, 7, 2))>\n",
      "<Row('LNK', 'Toothbrush', 20, 3.99, datetime.date(2021, 7, 3))>\n",
      "<Row('LNK', 'Dental Floss', 15, 1.99, datetime.date(2021, 7, 3))>\n",
      "<Row('LNK', 'Toothpaste', 11, 4.99, datetime.date(2021, 7, 3))>\n",
      "<Row('OMA', 'Toothbrush', 31, 3.99, datetime.date(2021, 7, 3))>\n",
      "<Row('OMA', 'Toothpaste', 10, 4.99, datetime.date(2021, 7, 3))>\n",
      "<Row('OMA', 'Dental Floss', 21, 1.99, datetime.date(2021, 7, 3))>\n",
      "<Row('LNK', 'Toothbrush', 22, 3.99, datetime.date(2021, 7, 1))>\n",
      "<Row('LNK', 'Dental Floss', 17, 1.99, datetime.date(2021, 7, 1))>\n",
      "<Row('LNK', 'Toothpaste', 8, 4.99, datetime.date(2021, 7, 1))>\n",
      "<Row('OMA', 'Toothbrush', 29, 3.99, datetime.date(2021, 7, 1))>\n",
      "<Row('OMA', 'Toothpaste', 9, 4.99, datetime.date(2021, 7, 1))>\n",
      "<Row('OMA', 'Dental Floss', 23, 1.99, datetime.date(2021, 7, 1))>\n",
      "<Row('LNK', 'Toothbrush', 25, 3.99, datetime.date(2021, 7, 2))>\n",
      "<Row('LNK', 'Dental Floss', 16, 1.99, datetime.date(2021, 7, 2))>\n",
      "<Row('LNK', 'Toothpaste', 9, 4.99, datetime.date(2021, 7, 2))>\n",
      "<Row('OMA', 'Toothbrush', 32, 3.99, datetime.date(2021, 7, 2))>\n",
      "<Row('OMA', 'Toothpaste', 13, 4.99, datetime.date(2021, 7, 2))>\n",
      "<Row('OMA', 'Dental Floss', 18, 1.99, datetime.date(2021, 7, 2))>\n",
      "<Row('LNK', 'Toothbrush', 20, 3.99, datetime.date(2021, 7, 3))>\n",
      "<Row('LNK', 'Dental Floss', 15, 1.99, datetime.date(2021, 7, 3))>\n",
      "<Row('LNK', 'Toothpaste', 11, 4.99, datetime.date(2021, 7, 3))>\n",
      "<Row('OMA', 'Toothbrush', 31, 3.99, datetime.date(2021, 7, 3))>\n",
      "<Row('OMA', 'Toothpaste', 10, 4.99, datetime.date(2021, 7, 3))>\n",
      "<Row('OMA', 'Dental Floss', 21, 1.99, datetime.date(2021, 7, 3))>\n",
      "<Row('LNK', 'Toothbrush', 22, 3.99, datetime.date(2021, 7, 1))>\n",
      "<Row('LNK', 'Dental Floss', 17, 1.99, datetime.date(2021, 7, 1))>\n",
      "<Row('LNK', 'Toothpaste', 8, 4.99, datetime.date(2021, 7, 1))>\n",
      "<Row('OMA', 'Toothbrush', 29, 3.99, datetime.date(2021, 7, 1))>\n",
      "<Row('OMA', 'Toothpaste', 9, 4.99, datetime.date(2021, 7, 1))>\n",
      "<Row('OMA', 'Dental Floss', 23, 1.99, datetime.date(2021, 7, 1))>\n",
      "<Row('LNK', 'Toothbrush', 25, 3.99, datetime.date(2021, 7, 2))>\n",
      "<Row('LNK', 'Dental Floss', 16, 1.99, datetime.date(2021, 7, 2))>\n",
      "<Row('LNK', 'Toothpaste', 9, 4.99, datetime.date(2021, 7, 2))>\n",
      "<Row('OMA', 'Toothbrush', 32, 3.99, datetime.date(2021, 7, 2))>\n",
      "<Row('OMA', 'Toothpaste', 13, 4.99, datetime.date(2021, 7, 2))>\n",
      "<Row('OMA', 'Dental Floss', 18, 1.99, datetime.date(2021, 7, 2))>\n",
      "<Row('LNK', 'Toothbrush', 20, 3.99, datetime.date(2021, 7, 3))>\n",
      "<Row('LNK', 'Dental Floss', 15, 1.99, datetime.date(2021, 7, 3))>\n",
      "<Row('LNK', 'Toothpaste', 11, 4.99, datetime.date(2021, 7, 3))>\n",
      "<Row('OMA', 'Toothbrush', 31, 3.99, datetime.date(2021, 7, 3))>\n",
      "<Row('OMA', 'Toothpaste', 10, 4.99, datetime.date(2021, 7, 3))>\n",
      "<Row('OMA', 'Dental Floss', 21, 1.99, datetime.date(2021, 7, 3))>\n",
      "<Row('LNK', 'Dental Floss', 17, 1.99, datetime.date(2021, 7, 1))>\n",
      "<Row('LNK', 'Toothpaste', 8, 4.99, datetime.date(2021, 7, 1))>\n",
      "<Row('OMA', 'Toothbrush', 29, 3.99, datetime.date(2021, 7, 1))>\n",
      "<Row('OMA', 'Toothpaste', 9, 4.99, datetime.date(2021, 7, 1))>\n",
      "<Row('OMA', 'Dental Floss', 23, 1.99, datetime.date(2021, 7, 1))>\n",
      "<Row('LNK', 'Toothbrush', 25, 3.99, datetime.date(2021, 7, 2))>\n",
      "<Row('LNK', 'Dental Floss', 16, 1.99, datetime.date(2021, 7, 2))>\n",
      "<Row('LNK', 'Toothpaste', 9, 4.99, datetime.date(2021, 7, 2))>\n",
      "<Row('OMA', 'Toothbrush', 32, 3.99, datetime.date(2021, 7, 2))>\n",
      "<Row('OMA', 'Toothpaste', 13, 4.99, datetime.date(2021, 7, 2))>\n",
      "<Row('OMA', 'Dental Floss', 18, 1.99, datetime.date(2021, 7, 2))>\n",
      "<Row('LNK', 'Toothbrush', 20, 3.99, datetime.date(2021, 7, 3))>\n",
      "<Row('LNK', 'Dental Floss', 15, 1.99, datetime.date(2021, 7, 3))>\n",
      "<Row('LNK', 'Toothpaste', 11, 4.99, datetime.date(2021, 7, 3))>\n",
      "<Row('OMA', 'Toothbrush', 31, 3.99, datetime.date(2021, 7, 3))>\n",
      "<Row('OMA', 'Toothpaste', 10, 4.99, datetime.date(2021, 7, 3))>\n",
      "<Row('OMA', 'Dental Floss', 21, 1.99, datetime.date(2021, 7, 3))>\n",
      "<Row('LNK', 'Dental Floss', 17, 1.99, datetime.date(2021, 7, 1))>\n",
      "<Row('LNK', 'Toothpaste', 8, 4.99, datetime.date(2021, 7, 1))>\n",
      "<Row('OMA', 'Toothbrush', 29, 3.99, datetime.date(2021, 7, 1))>\n",
      "<Row('OMA', 'Toothpaste', 9, 4.99, datetime.date(2021, 7, 1))>\n",
      "<Row('OMA', 'Dental Floss', 23, 1.99, datetime.date(2021, 7, 1))>\n",
      "<Row('LNK', 'Toothbrush', 25, 3.99, datetime.date(2021, 7, 2))>\n",
      "<Row('LNK', 'Dental Floss', 16, 1.99, datetime.date(2021, 7, 2))>\n",
      "<Row('LNK', 'Toothpaste', 9, 4.99, datetime.date(2021, 7, 2))>\n",
      "<Row('OMA', 'Toothbrush', 32, 3.99, datetime.date(2021, 7, 2))>\n",
      "<Row('OMA', 'Toothpaste', 13, 4.99, datetime.date(2021, 7, 2))>\n",
      "<Row('OMA', 'Dental Floss', 18, 1.99, datetime.date(2021, 7, 2))>\n",
      "<Row('LNK', 'Toothbrush', 20, 3.99, datetime.date(2021, 7, 3))>\n",
      "<Row('LNK', 'Dental Floss', 15, 1.99, datetime.date(2021, 7, 3))>\n",
      "<Row('LNK', 'Toothpaste', 11, 4.99, datetime.date(2021, 7, 3))>\n",
      "<Row('OMA', 'Toothbrush', 31, 3.99, datetime.date(2021, 7, 3))>\n",
      "<Row('OMA', 'Toothpaste', 10, 4.99, datetime.date(2021, 7, 3))>\n",
      "<Row('LNK', 'Toothbrush', 22, 3.99, datetime.date(2021, 7, 1))>\n",
      "<Row('LNK', 'Dental Floss', 17, 1.99, datetime.date(2021, 7, 1))>\n",
      "<Row('LNK', 'Toothpaste', 8, 4.99, datetime.date(2021, 7, 1))>\n",
      "<Row('OMA', 'Toothbrush', 29, 3.99, datetime.date(2021, 7, 1))>\n",
      "<Row('OMA', 'Toothpaste', 9, 4.99, datetime.date(2021, 7, 1))>\n",
      "<Row('OMA', 'Dental Floss', 23, 1.99, datetime.date(2021, 7, 1))>\n",
      "<Row('LNK', 'Toothbrush', 25, 3.99, datetime.date(2021, 7, 2))>\n",
      "<Row('LNK', 'Dental Floss', 16, 1.99, datetime.date(2021, 7, 2))>\n",
      "<Row('LNK', 'Toothpaste', 9, 4.99, datetime.date(2021, 7, 2))>\n",
      "<Row('OMA', 'Toothbrush', 32, 3.99, datetime.date(2021, 7, 2))>\n",
      "<Row('OMA', 'Toothpaste', 13, 4.99, datetime.date(2021, 7, 2))>\n",
      "<Row('OMA', 'Dental Floss', 18, 1.99, datetime.date(2021, 7, 2))>\n",
      "<Row('LNK', 'Toothbrush', 20, 3.99, datetime.date(2021, 7, 3))>\n",
      "<Row('LNK', 'Dental Floss', 15, 1.99, datetime.date(2021, 7, 3))>\n",
      "<Row('LNK', 'Toothpaste', 11, 4.99, datetime.date(2021, 7, 3))>\n",
      "<Row('OMA', 'Toothbrush', 31, 3.99, datetime.date(2021, 7, 3))>\n",
      "<Row('OMA', 'Toothpaste', 10, 4.99, datetime.date(2021, 7, 3))>\n",
      "<Row('OMA', 'Dental Floss', 21, 1.99, datetime.date(2021, 7, 3))>\n",
      "<Row('LNK', 'Toothbrush', 22, 3.99, datetime.date(2021, 7, 1))>\n",
      "<Row('LNK', 'Dental Floss', 17, 1.99, datetime.date(2021, 7, 1))>\n",
      "<Row('LNK', 'Toothpaste', 8, 4.99, datetime.date(2021, 7, 1))>\n",
      "<Row('OMA', 'Toothbrush', 29, 3.99, datetime.date(2021, 7, 1))>\n",
      "<Row('OMA', 'Toothpaste', 9, 4.99, datetime.date(2021, 7, 1))>\n",
      "<Row('OMA', 'Dental Floss', 23, 1.99, datetime.date(2021, 7, 1))>\n",
      "<Row('LNK', 'Toothbrush', 25, 3.99, datetime.date(2021, 7, 2))>\n",
      "<Row('LNK', 'Dental Floss', 16, 1.99, datetime.date(2021, 7, 2))>\n",
      "<Row('LNK', 'Toothpaste', 9, 4.99, datetime.date(2021, 7, 2))>\n",
      "<Row('OMA', 'Toothbrush', 32, 3.99, datetime.date(2021, 7, 2))>\n",
      "<Row('OMA', 'Toothpaste', 13, 4.99, datetime.date(2021, 7, 2))>\n",
      "<Row('OMA', 'Dental Floss', 18, 1.99, datetime.date(2021, 7, 2))>\n",
      "<Row('LNK', 'Toothbrush', 20, 3.99, datetime.date(2021, 7, 3))>\n",
      "<Row('LNK', 'Dental Floss', 15, 1.99, datetime.date(2021, 7, 3))>\n",
      "<Row('LNK', 'Toothpaste', 11, 4.99, datetime.date(2021, 7, 3))>\n",
      "<Row('OMA', 'Toothbrush', 31, 3.99, datetime.date(2021, 7, 3))>\n",
      "<Row('OMA', 'Toothpaste', 10, 4.99, datetime.date(2021, 7, 3))>\n",
      "<Row('OMA', 'Dental Floss', 21, 1.99, datetime.date(2021, 7, 3))>\n",
      "<Row('LNK', 'Dental Floss', 17, 1.99, datetime.date(2021, 7, 1))>\n",
      "<Row('LNK', 'Toothpaste', 8, 4.99, datetime.date(2021, 7, 1))>\n",
      "<Row('OMA', 'Toothbrush', 29, 3.99, datetime.date(2021, 7, 1))>\n",
      "<Row('OMA', 'Toothpaste', 9, 4.99, datetime.date(2021, 7, 1))>\n",
      "<Row('OMA', 'Dental Floss', 23, 1.99, datetime.date(2021, 7, 1))>\n",
      "<Row('LNK', 'Toothbrush', 25, 3.99, datetime.date(2021, 7, 2))>\n",
      "<Row('LNK', 'Dental Floss', 16, 1.99, datetime.date(2021, 7, 2))>\n",
      "<Row('LNK', 'Toothpaste', 9, 4.99, datetime.date(2021, 7, 2))>\n",
      "<Row('OMA', 'Toothbrush', 32, 3.99, datetime.date(2021, 7, 2))>\n",
      "<Row('OMA', 'Toothpaste', 13, 4.99, datetime.date(2021, 7, 2))>\n",
      "<Row('OMA', 'Dental Floss', 18, 1.99, datetime.date(2021, 7, 2))>\n",
      "<Row('LNK', 'Toothbrush', 20, 3.99, datetime.date(2021, 7, 3))>\n",
      "<Row('LNK', 'Dental Floss', 15, 1.99, datetime.date(2021, 7, 3))>\n",
      "<Row('LNK', 'Toothpaste', 11, 4.99, datetime.date(2021, 7, 3))>\n",
      "<Row('OMA', 'Toothbrush', 31, 3.99, datetime.date(2021, 7, 3))>\n",
      "<Row('OMA', 'Toothpaste', 10, 4.99, datetime.date(2021, 7, 3))>\n",
      "<Row('OMA', 'Dental Floss', 21, 1.99, datetime.date(2021, 7, 3))>\n",
      "<Row('LNK', 'Dental Floss', 17, 1.99, datetime.date(2021, 7, 1))>\n",
      "<Row('LNK', 'Toothpaste', 8, 4.99, datetime.date(2021, 7, 1))>\n",
      "<Row('OMA', 'Toothbrush', 29, 3.99, datetime.date(2021, 7, 1))>\n",
      "<Row('OMA', 'Toothpaste', 9, 4.99, datetime.date(2021, 7, 1))>\n",
      "<Row('OMA', 'Dental Floss', 23, 1.99, datetime.date(2021, 7, 1))>\n",
      "<Row('LNK', 'Toothbrush', 25, 3.99, datetime.date(2021, 7, 2))>\n",
      "<Row('LNK', 'Dental Floss', 16, 1.99, datetime.date(2021, 7, 2))>\n",
      "<Row('LNK', 'Toothpaste', 9, 4.99, datetime.date(2021, 7, 2))>\n",
      "<Row('OMA', 'Toothbrush', 32, 3.99, datetime.date(2021, 7, 2))>\n",
      "<Row('OMA', 'Toothpaste', 13, 4.99, datetime.date(2021, 7, 2))>\n",
      "<Row('OMA', 'Dental Floss', 18, 1.99, datetime.date(2021, 7, 2))>\n",
      "<Row('LNK', 'Toothbrush', 20, 3.99, datetime.date(2021, 7, 3))>\n",
      "<Row('LNK', 'Dental Floss', 15, 1.99, datetime.date(2021, 7, 3))>\n",
      "<Row('LNK', 'Toothpaste', 11, 4.99, datetime.date(2021, 7, 3))>\n",
      "<Row('OMA', 'Toothbrush', 31, 3.99, datetime.date(2021, 7, 3))>\n",
      "<Row('OMA', 'Toothpaste', 10, 4.99, datetime.date(2021, 7, 3))>\n",
      "<Row('OMA', 'Dental Floss', 21, 1.99, datetime.date(2021, 7, 3))>\n",
      "<Row('LNK', 'Dental Floss', 17, 1.99, datetime.date(2021, 7, 1))>\n",
      "<Row('LNK', 'Toothpaste', 8, 4.99, datetime.date(2021, 7, 1))>\n",
      "<Row('OMA', 'Toothbrush', 29, 3.99, datetime.date(2021, 7, 1))>\n",
      "<Row('OMA', 'Toothpaste', 9, 4.99, datetime.date(2021, 7, 1))>\n",
      "<Row('OMA', 'Dental Floss', 23, 1.99, datetime.date(2021, 7, 1))>\n",
      "<Row('LNK', 'Toothbrush', 25, 3.99, datetime.date(2021, 7, 2))>\n",
      "<Row('LNK', 'Dental Floss', 16, 1.99, datetime.date(2021, 7, 2))>\n",
      "<Row('LNK', 'Toothpaste', 9, 4.99, datetime.date(2021, 7, 2))>\n",
      "<Row('OMA', 'Toothbrush', 32, 3.99, datetime.date(2021, 7, 2))>\n",
      "<Row('OMA', 'Toothpaste', 13, 4.99, datetime.date(2021, 7, 2))>\n",
      "<Row('OMA', 'Dental Floss', 18, 1.99, datetime.date(2021, 7, 2))>\n",
      "<Row('LNK', 'Toothbrush', 20, 3.99, datetime.date(2021, 7, 3))>\n",
      "<Row('LNK', 'Dental Floss', 15, 1.99, datetime.date(2021, 7, 3))>\n",
      "<Row('LNK', 'Toothpaste', 11, 4.99, datetime.date(2021, 7, 3))>\n",
      "<Row('OMA', 'Toothbrush', 31, 3.99, datetime.date(2021, 7, 3))>\n",
      "<Row('OMA', 'Toothpaste', 10, 4.99, datetime.date(2021, 7, 3))>\n",
      "<Row('LNK', 'Toothbrush', 22, 3.99, datetime.date(2021, 7, 1))>\n",
      "<Row('LNK', 'Dental Floss', 17, 1.99, datetime.date(2021, 7, 1))>\n",
      "<Row('LNK', 'Toothpaste', 8, 4.99, datetime.date(2021, 7, 1))>\n",
      "<Row('OMA', 'Toothbrush', 29, 3.99, datetime.date(2021, 7, 1))>\n",
      "<Row('OMA', 'Toothpaste', 9, 4.99, datetime.date(2021, 7, 1))>\n",
      "<Row('OMA', 'Dental Floss', 23, 1.99, datetime.date(2021, 7, 1))>\n",
      "<Row('LNK', 'Toothbrush', 25, 3.99, datetime.date(2021, 7, 2))>\n",
      "<Row('LNK', 'Dental Floss', 16, 1.99, datetime.date(2021, 7, 2))>\n",
      "<Row('LNK', 'Toothpaste', 9, 4.99, datetime.date(2021, 7, 2))>\n",
      "<Row('OMA', 'Toothbrush', 32, 3.99, datetime.date(2021, 7, 2))>\n",
      "<Row('OMA', 'Toothpaste', 13, 4.99, datetime.date(2021, 7, 2))>\n",
      "<Row('OMA', 'Dental Floss', 18, 1.99, datetime.date(2021, 7, 2))>\n",
      "<Row('LNK', 'Toothbrush', 20, 3.99, datetime.date(2021, 7, 3))>\n",
      "<Row('LNK', 'Dental Floss', 15, 1.99, datetime.date(2021, 7, 3))>\n",
      "<Row('LNK', 'Toothpaste', 11, 4.99, datetime.date(2021, 7, 3))>\n",
      "<Row('OMA', 'Toothbrush', 31, 3.99, datetime.date(2021, 7, 3))>\n",
      "<Row('OMA', 'Toothpaste', 10, 4.99, datetime.date(2021, 7, 3))>\n",
      "<Row('OMA', 'Dental Floss', 21, 1.99, datetime.date(2021, 7, 3))>\n",
      "<Row('LNK', 'Dental Floss', 17, 1.99, datetime.date(2021, 7, 1))>\n",
      "<Row('LNK', 'Toothpaste', 8, 4.99, datetime.date(2021, 7, 1))>\n",
      "<Row('OMA', 'Toothbrush', 29, 3.99, datetime.date(2021, 7, 1))>\n",
      "<Row('OMA', 'Toothpaste', 9, 4.99, datetime.date(2021, 7, 1))>\n",
      "<Row('OMA', 'Dental Floss', 23, 1.99, datetime.date(2021, 7, 1))>\n",
      "<Row('LNK', 'Toothbrush', 25, 3.99, datetime.date(2021, 7, 2))>\n",
      "<Row('LNK', 'Dental Floss', 16, 1.99, datetime.date(2021, 7, 2))>\n",
      "<Row('LNK', 'Toothpaste', 9, 4.99, datetime.date(2021, 7, 2))>\n",
      "<Row('OMA', 'Toothbrush', 32, 3.99, datetime.date(2021, 7, 2))>\n",
      "<Row('OMA', 'Toothpaste', 13, 4.99, datetime.date(2021, 7, 2))>\n",
      "<Row('OMA', 'Dental Floss', 18, 1.99, datetime.date(2021, 7, 2))>\n",
      "<Row('LNK', 'Toothbrush', 20, 3.99, datetime.date(2021, 7, 3))>\n",
      "<Row('LNK', 'Dental Floss', 15, 1.99, datetime.date(2021, 7, 3))>\n",
      "<Row('LNK', 'Toothpaste', 11, 4.99, datetime.date(2021, 7, 3))>\n",
      "<Row('OMA', 'Toothbrush', 31, 3.99, datetime.date(2021, 7, 3))>\n",
      "<Row('OMA', 'Toothpaste', 10, 4.99, datetime.date(2021, 7, 3))>\n",
      "<Row('OMA', 'Dental Floss', 21, 1.99, datetime.date(2021, 7, 3))>\n",
      "<Row('LNK', 'Toothbrush', 22, 3.99, datetime.date(2021, 7, 1))>\n",
      "<Row('LNK', 'Dental Floss', 17, 1.99, datetime.date(2021, 7, 1))>\n",
      "<Row('LNK', 'Toothpaste', 8, 4.99, datetime.date(2021, 7, 1))>\n",
      "<Row('OMA', 'Toothbrush', 29, 3.99, datetime.date(2021, 7, 1))>\n",
      "<Row('OMA', 'Toothpaste', 9, 4.99, datetime.date(2021, 7, 1))>\n",
      "<Row('OMA', 'Dental Floss', 23, 1.99, datetime.date(2021, 7, 1))>\n",
      "<Row('LNK', 'Toothbrush', 25, 3.99, datetime.date(2021, 7, 2))>\n",
      "<Row('LNK', 'Dental Floss', 16, 1.99, datetime.date(2021, 7, 2))>\n",
      "<Row('LNK', 'Toothpaste', 9, 4.99, datetime.date(2021, 7, 2))>\n",
      "<Row('OMA', 'Toothbrush', 32, 3.99, datetime.date(2021, 7, 2))>\n",
      "<Row('OMA', 'Toothpaste', 13, 4.99, datetime.date(2021, 7, 2))>\n",
      "<Row('OMA', 'Dental Floss', 18, 1.99, datetime.date(2021, 7, 2))>\n",
      "<Row('LNK', 'Toothbrush', 20, 3.99, datetime.date(2021, 7, 3))>\n",
      "<Row('LNK', 'Dental Floss', 15, 1.99, datetime.date(2021, 7, 3))>\n",
      "<Row('LNK', 'Toothpaste', 11, 4.99, datetime.date(2021, 7, 3))>\n",
      "<Row('OMA', 'Toothbrush', 31, 3.99, datetime.date(2021, 7, 3))>\n",
      "<Row('OMA', 'Toothpaste', 10, 4.99, datetime.date(2021, 7, 3))>\n",
      "<Row('OMA', 'Dental Floss', 21, 1.99, datetime.date(2021, 7, 3))>\n",
      "<Row('LNK', 'Toothbrush', 22, 3.99, datetime.date(2021, 7, 1))>\n",
      "<Row('LNK', 'Dental Floss', 17, 1.99, datetime.date(2021, 7, 1))>\n",
      "<Row('LNK', 'Toothpaste', 8, 4.99, datetime.date(2021, 7, 1))>\n",
      "<Row('OMA', 'Toothbrush', 29, 3.99, datetime.date(2021, 7, 1))>\n",
      "<Row('OMA', 'Toothpaste', 9, 4.99, datetime.date(2021, 7, 1))>\n",
      "<Row('OMA', 'Dental Floss', 23, 1.99, datetime.date(2021, 7, 1))>\n",
      "<Row('LNK', 'Toothbrush', 25, 3.99, datetime.date(2021, 7, 2))>\n",
      "<Row('LNK', 'Dental Floss', 16, 1.99, datetime.date(2021, 7, 2))>\n",
      "<Row('LNK', 'Toothpaste', 9, 4.99, datetime.date(2021, 7, 2))>\n",
      "<Row('OMA', 'Toothbrush', 32, 3.99, datetime.date(2021, 7, 2))>\n",
      "<Row('OMA', 'Toothpaste', 13, 4.99, datetime.date(2021, 7, 2))>\n",
      "<Row('OMA', 'Dental Floss', 18, 1.99, datetime.date(2021, 7, 2))>\n",
      "<Row('LNK', 'Toothbrush', 20, 3.99, datetime.date(2021, 7, 3))>\n",
      "<Row('LNK', 'Dental Floss', 15, 1.99, datetime.date(2021, 7, 3))>\n",
      "<Row('LNK', 'Toothpaste', 11, 4.99, datetime.date(2021, 7, 3))>\n",
      "<Row('OMA', 'Toothbrush', 31, 3.99, datetime.date(2021, 7, 3))>\n",
      "<Row('OMA', 'Toothpaste', 10, 4.99, datetime.date(2021, 7, 3))>\n",
      "<Row('OMA', 'Dental Floss', 21, 1.99, datetime.date(2021, 7, 3))>\n"
     ]
    }
   ],
   "source": [
    "with kafka_stream_tbl.execute().collect() as results:\n",
    "    for result in results:\n",
    "        print(result)"
   ]
  },
  {
   "cell_type": "code",
   "execution_count": null,
   "id": "9211bbb6-1087-4ef2-825d-6dae2176f4ae",
   "metadata": {},
   "outputs": [],
   "source": [
    "# stream_tbl_env.create_table(\"MyTable\", TableDescriptor.for_connector(\"datagen\")\n",
    "#     .schema(Schema.new_builder()\n",
    "#                   .column(\"f0\", DataTypes.STRING())\n",
    "#                   .build())\n",
    "#     .option(\"rows-per-second\", 10)\n",
    "#     .option(\"fields.f0.kind\", \"random\")\n",
    "#     .build())"
   ]
  },
  {
   "cell_type": "code",
   "execution_count": null,
   "id": "2af30de3-ab97-4f9b-9ff9-9599df4a54ab",
   "metadata": {
    "tags": []
   },
   "outputs": [],
   "source": [
    "# ds = stream_env.from_source(source=kafka_source,watermark_strategy=WatermarkStrategy.no_watermarks(),source_name='kafka_tbl_source')"
   ]
  },
  {
   "cell_type": "code",
   "execution_count": null,
   "id": "447bdf96-7e13-477b-9c6c-f1b04c7ebd71",
   "metadata": {
    "tags": []
   },
   "outputs": [],
   "source": [
    "# with ds.execute_and_collect() as results:\n",
    "#     for result in results:\n",
    "#         print(result)"
   ]
  },
  {
   "cell_type": "code",
   "execution_count": null,
   "id": "f9895f3e-067b-4e10-9567-41063dbe2448",
   "metadata": {},
   "outputs": [],
   "source": []
  }
 ],
 "metadata": {
  "kernelspec": {
   "display_name": "Python 3 (ipykernel)",
   "language": "python",
   "name": "python3"
  },
  "language_info": {
   "codemirror_mode": {
    "name": "ipython",
    "version": 3
   },
   "file_extension": ".py",
   "mimetype": "text/x-python",
   "name": "python",
   "nbconvert_exporter": "python",
   "pygments_lexer": "ipython3",
   "version": "3.8.18"
  }
 },
 "nbformat": 4,
 "nbformat_minor": 5
}
